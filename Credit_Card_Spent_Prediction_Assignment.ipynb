{
 "cells": [
  {
   "cell_type": "markdown",
   "metadata": {},
   "source": [
    "# CREDIT CARD SPEND PREDICTION & IDENTIFY DRIVERS FOR SPEND"
   ]
  },
  {
   "cell_type": "markdown",
   "metadata": {},
   "source": [
    "### The objective of this case study is to understand what's driving the total spend"
   ]
  },
  {
   "cell_type": "markdown",
   "metadata": {},
   "source": [
    "#### Importing Required Modules and Sub Modules"
   ]
  },
  {
   "cell_type": "code",
   "execution_count": 1,
   "metadata": {},
   "outputs": [],
   "source": [
    "import os\n",
    "import pandas as pd\n",
    "import numpy as np\n",
    "\n",
    "import matplotlib.pyplot as plt\n",
    "import seaborn as sns\n",
    "import pandas_profiling\n",
    "\n",
    "from sklearn.model_selection import train_test_split\n",
    "from sklearn import metrics\n",
    "\n",
    "\n",
    "\n",
    "import statsmodels.api as sm\n",
    "from sklearn import metrics\n",
    "\n",
    "\n",
    "from sklearn.linear_model import LinearRegression\n"
   ]
  },
  {
   "cell_type": "markdown",
   "metadata": {},
   "source": [
    "### Data Set import"
   ]
  },
  {
   "cell_type": "code",
   "execution_count": 2,
   "metadata": {},
   "outputs": [],
   "source": [
    "credits = pd.read_excel(\"C:\\\\Users\\\\Vedant\\\\Downloads\\\\pyth\\\\Data_Set.xlsx\")"
   ]
  },
  {
   "cell_type": "code",
   "execution_count": 3,
   "metadata": {},
   "outputs": [
    {
     "data": {
      "text/html": [
       "<div>\n",
       "<style scoped>\n",
       "    .dataframe tbody tr th:only-of-type {\n",
       "        vertical-align: middle;\n",
       "    }\n",
       "\n",
       "    .dataframe tbody tr th {\n",
       "        vertical-align: top;\n",
       "    }\n",
       "\n",
       "    .dataframe thead th {\n",
       "        text-align: right;\n",
       "    }\n",
       "</style>\n",
       "<table border=\"1\" class=\"dataframe\">\n",
       "  <thead>\n",
       "    <tr style=\"text-align: right;\">\n",
       "      <th></th>\n",
       "      <th>custid</th>\n",
       "      <th>region</th>\n",
       "      <th>townsize</th>\n",
       "      <th>gender</th>\n",
       "      <th>age</th>\n",
       "      <th>agecat</th>\n",
       "      <th>birthmonth</th>\n",
       "      <th>ed</th>\n",
       "      <th>edcat</th>\n",
       "      <th>jobcat</th>\n",
       "      <th>...</th>\n",
       "      <th>owncd</th>\n",
       "      <th>ownpda</th>\n",
       "      <th>ownpc</th>\n",
       "      <th>ownipod</th>\n",
       "      <th>owngame</th>\n",
       "      <th>ownfax</th>\n",
       "      <th>news</th>\n",
       "      <th>response_01</th>\n",
       "      <th>response_02</th>\n",
       "      <th>response_03</th>\n",
       "    </tr>\n",
       "  </thead>\n",
       "  <tbody>\n",
       "    <tr>\n",
       "      <th>0</th>\n",
       "      <td>3964-QJWTRG-NPN</td>\n",
       "      <td>1</td>\n",
       "      <td>2.0</td>\n",
       "      <td>1</td>\n",
       "      <td>20</td>\n",
       "      <td>2</td>\n",
       "      <td>September</td>\n",
       "      <td>15</td>\n",
       "      <td>3</td>\n",
       "      <td>1</td>\n",
       "      <td>...</td>\n",
       "      <td>0</td>\n",
       "      <td>0</td>\n",
       "      <td>0</td>\n",
       "      <td>1</td>\n",
       "      <td>1</td>\n",
       "      <td>0</td>\n",
       "      <td>0</td>\n",
       "      <td>0</td>\n",
       "      <td>1</td>\n",
       "      <td>0</td>\n",
       "    </tr>\n",
       "    <tr>\n",
       "      <th>1</th>\n",
       "      <td>0648-AIPJSP-UVM</td>\n",
       "      <td>5</td>\n",
       "      <td>5.0</td>\n",
       "      <td>0</td>\n",
       "      <td>22</td>\n",
       "      <td>2</td>\n",
       "      <td>May</td>\n",
       "      <td>17</td>\n",
       "      <td>4</td>\n",
       "      <td>2</td>\n",
       "      <td>...</td>\n",
       "      <td>1</td>\n",
       "      <td>1</td>\n",
       "      <td>1</td>\n",
       "      <td>1</td>\n",
       "      <td>1</td>\n",
       "      <td>1</td>\n",
       "      <td>1</td>\n",
       "      <td>0</td>\n",
       "      <td>0</td>\n",
       "      <td>0</td>\n",
       "    </tr>\n",
       "  </tbody>\n",
       "</table>\n",
       "<p>2 rows × 130 columns</p>\n",
       "</div>"
      ],
      "text/plain": [
       "            custid  region  townsize  gender  age  agecat birthmonth  ed  \\\n",
       "0  3964-QJWTRG-NPN       1       2.0       1   20       2  September  15   \n",
       "1  0648-AIPJSP-UVM       5       5.0       0   22       2        May  17   \n",
       "\n",
       "   edcat  jobcat  ...  owncd  ownpda  ownpc  ownipod  owngame  ownfax  news  \\\n",
       "0      3       1  ...      0       0      0        1        1       0     0   \n",
       "1      4       2  ...      1       1      1        1        1       1     1   \n",
       "\n",
       "   response_01  response_02  response_03  \n",
       "0            0            1            0  \n",
       "1            0            0            0  \n",
       "\n",
       "[2 rows x 130 columns]"
      ]
     },
     "execution_count": 3,
     "metadata": {},
     "output_type": "execute_result"
    }
   ],
   "source": [
    "credits.head(2)"
   ]
  },
  {
   "cell_type": "markdown",
   "metadata": {},
   "source": [
    "## Data Preprocessing"
   ]
  },
  {
   "cell_type": "code",
   "execution_count": 4,
   "metadata": {},
   "outputs": [
    {
     "name": "stdout",
     "output_type": "stream",
     "text": [
      "<class 'pandas.core.frame.DataFrame'>\n",
      "RangeIndex: 5000 entries, 0 to 4999\n",
      "Columns: 130 entries, custid to response_03\n",
      "dtypes: float64(31), int64(97), object(2)\n",
      "memory usage: 5.0+ MB\n"
     ]
    }
   ],
   "source": [
    "credits.info()"
   ]
  },
  {
   "cell_type": "code",
   "execution_count": 6,
   "metadata": {},
   "outputs": [
    {
     "data": {
      "text/plain": [
       "(5000, 130)"
      ]
     },
     "execution_count": 6,
     "metadata": {},
     "output_type": "execute_result"
    }
   ],
   "source": [
    "#getting size and shape of our dataframe\n",
    "credits.size\n",
    "credits.shape"
   ]
  },
  {
   "cell_type": "code",
   "execution_count": 7,
   "metadata": {},
   "outputs": [],
   "source": [
    "#Since Cust Id is irrelevant and of no use in modelling we can drop it\n",
    "credits.drop(['custid'],axis=1,inplace=True)"
   ]
  },
  {
   "cell_type": "code",
   "execution_count": 405,
   "metadata": {},
   "outputs": [
    {
     "data": {
      "text/html": [
       "<div>\n",
       "<style scoped>\n",
       "    .dataframe tbody tr th:only-of-type {\n",
       "        vertical-align: middle;\n",
       "    }\n",
       "\n",
       "    .dataframe tbody tr th {\n",
       "        vertical-align: top;\n",
       "    }\n",
       "\n",
       "    .dataframe thead th {\n",
       "        text-align: right;\n",
       "    }\n",
       "</style>\n",
       "<table border=\"1\" class=\"dataframe\">\n",
       "  <thead>\n",
       "    <tr style=\"text-align: right;\">\n",
       "      <th></th>\n",
       "      <th>region</th>\n",
       "      <th>townsize</th>\n",
       "      <th>gender</th>\n",
       "      <th>age</th>\n",
       "      <th>agecat</th>\n",
       "      <th>birthmonth</th>\n",
       "      <th>ed</th>\n",
       "      <th>edcat</th>\n",
       "      <th>jobcat</th>\n",
       "      <th>union</th>\n",
       "      <th>...</th>\n",
       "      <th>owncd</th>\n",
       "      <th>ownpda</th>\n",
       "      <th>ownpc</th>\n",
       "      <th>ownipod</th>\n",
       "      <th>owngame</th>\n",
       "      <th>ownfax</th>\n",
       "      <th>news</th>\n",
       "      <th>response_01</th>\n",
       "      <th>response_02</th>\n",
       "      <th>response_03</th>\n",
       "    </tr>\n",
       "  </thead>\n",
       "  <tbody>\n",
       "    <tr>\n",
       "      <th>0</th>\n",
       "      <td>1</td>\n",
       "      <td>2.0</td>\n",
       "      <td>1</td>\n",
       "      <td>20</td>\n",
       "      <td>2</td>\n",
       "      <td>September</td>\n",
       "      <td>15</td>\n",
       "      <td>3</td>\n",
       "      <td>1</td>\n",
       "      <td>1</td>\n",
       "      <td>...</td>\n",
       "      <td>0</td>\n",
       "      <td>0</td>\n",
       "      <td>0</td>\n",
       "      <td>1</td>\n",
       "      <td>1</td>\n",
       "      <td>0</td>\n",
       "      <td>0</td>\n",
       "      <td>0</td>\n",
       "      <td>1</td>\n",
       "      <td>0</td>\n",
       "    </tr>\n",
       "    <tr>\n",
       "      <th>1</th>\n",
       "      <td>5</td>\n",
       "      <td>5.0</td>\n",
       "      <td>0</td>\n",
       "      <td>22</td>\n",
       "      <td>2</td>\n",
       "      <td>May</td>\n",
       "      <td>17</td>\n",
       "      <td>4</td>\n",
       "      <td>2</td>\n",
       "      <td>0</td>\n",
       "      <td>...</td>\n",
       "      <td>1</td>\n",
       "      <td>1</td>\n",
       "      <td>1</td>\n",
       "      <td>1</td>\n",
       "      <td>1</td>\n",
       "      <td>1</td>\n",
       "      <td>1</td>\n",
       "      <td>0</td>\n",
       "      <td>0</td>\n",
       "      <td>0</td>\n",
       "    </tr>\n",
       "  </tbody>\n",
       "</table>\n",
       "<p>2 rows × 129 columns</p>\n",
       "</div>"
      ],
      "text/plain": [
       "   region  townsize  gender  age  agecat birthmonth  ed  edcat  jobcat  union  \\\n",
       "0       1       2.0       1   20       2  September  15      3       1      1   \n",
       "1       5       5.0       0   22       2        May  17      4       2      0   \n",
       "\n",
       "   ...  owncd  ownpda  ownpc  ownipod  owngame  ownfax  news  response_01  \\\n",
       "0  ...      0       0      0        1        1       0     0            0   \n",
       "1  ...      1       1      1        1        1       1     1            0   \n",
       "\n",
       "   response_02  response_03  \n",
       "0            1            0  \n",
       "1            0            0  \n",
       "\n",
       "[2 rows x 129 columns]"
      ]
     },
     "execution_count": 405,
     "metadata": {},
     "output_type": "execute_result"
    }
   ],
   "source": [
    "credits.head(2)"
   ]
  },
  {
   "cell_type": "code",
   "execution_count": 8,
   "metadata": {},
   "outputs": [
    {
     "name": "stdout",
     "output_type": "stream",
     "text": [
      "<class 'pandas.core.frame.DataFrame'>\n",
      "RangeIndex: 5000 entries, 0 to 4999\n",
      "Columns: 129 entries, region to response_03\n",
      "dtypes: float64(31), int64(97), object(1)\n",
      "memory usage: 4.9+ MB\n"
     ]
    }
   ],
   "source": [
    "credits.info()"
   ]
  },
  {
   "cell_type": "code",
   "execution_count": 407,
   "metadata": {},
   "outputs": [
    {
     "data": {
      "text/plain": [
       "Index(['region', 'townsize', 'gender', 'age', 'agecat', 'birthmonth', 'ed',\n",
       "       'edcat', 'jobcat', 'union',\n",
       "       ...\n",
       "       'owncd', 'ownpda', 'ownpc', 'ownipod', 'owngame', 'ownfax', 'news',\n",
       "       'response_01', 'response_02', 'response_03'],\n",
       "      dtype='object', length=129)"
      ]
     },
     "execution_count": 407,
     "metadata": {},
     "output_type": "execute_result"
    }
   ],
   "source": [
    "credits.columns"
   ]
  },
  {
   "cell_type": "code",
   "execution_count": 9,
   "metadata": {},
   "outputs": [],
   "source": [
    "#our dependent y variable will be sum of the two y variables i.e. cardspent and card2spent\n",
    "credits['Total_Spend']= credits['cardspent'] + credits['card2spent']"
   ]
  },
  {
   "cell_type": "code",
   "execution_count": 10,
   "metadata": {},
   "outputs": [
    {
     "data": {
      "text/plain": [
       "<matplotlib.axes._subplots.AxesSubplot at 0xe05eeca208>"
      ]
     },
     "execution_count": 10,
     "metadata": {},
     "output_type": "execute_result"
    },
    {
     "data": {
      "image/png": "[encoded data removed]",
      "text/plain": [
       "<Figure size 432x288 with 1 Axes>"
      ]
     },
     "metadata": {
      "needs_background": "light"
     },
     "output_type": "display_data"
    }
   ],
   "source": [
    "#Verify the normal disribution of Total_Spend\n",
    "sns.distplot(credits.Total_Spend)"
   ]
  },
  {
   "cell_type": "code",
   "execution_count": 11,
   "metadata": {},
   "outputs": [],
   "source": [
    "#Since it is not normally distributed , to make it normally distributed we will take the log"
   ]
  },
  {
   "cell_type": "code",
   "execution_count": 12,
   "metadata": {},
   "outputs": [],
   "source": [
    "credits[\"ln_Total_Spend\"]= np.log(credits[\"Total_Spend\"]+1)"
   ]
  },
  {
   "cell_type": "code",
   "execution_count": 13,
   "metadata": {},
   "outputs": [
    {
     "data": {
      "text/plain": [
       "<matplotlib.axes._subplots.AxesSubplot at 0xe060656b00>"
      ]
     },
     "execution_count": 13,
     "metadata": {},
     "output_type": "execute_result"
    },
    {
     "data": {
      "image/png": "[encoded data removed]",
      "text/plain": [
       "<Figure size 432x288 with 1 Axes>"
      ]
     },
     "metadata": {
      "needs_background": "light"
     },
     "output_type": "display_data"
    }
   ],
   "source": [
    "sns.distplot(credits.ln_Total_Spend)"
   ]
  },
  {
   "cell_type": "code",
   "execution_count": 14,
   "metadata": {},
   "outputs": [],
   "source": [
    "#Now we need to drop existing variables i.e. cardspent, card2spent and Total_Spend and keep only ln_Total_Spend"
   ]
  },
  {
   "cell_type": "code",
   "execution_count": 15,
   "metadata": {},
   "outputs": [],
   "source": [
    "credits.drop(['cardspent','card2spent','Total_Spend'],axis=1,inplace=True)"
   ]
  },
  {
   "cell_type": "code",
   "execution_count": 16,
   "metadata": {},
   "outputs": [
    {
     "data": {
      "text/plain": [
       "(5000, 128)"
      ]
     },
     "execution_count": 16,
     "metadata": {},
     "output_type": "execute_result"
    }
   ],
   "source": [
    "credits.shape"
   ]
  },
  {
   "cell_type": "code",
   "execution_count": 17,
   "metadata": {},
   "outputs": [],
   "source": [
    "NA = credits.isnull().sum()"
   ]
  },
  {
   "cell_type": "code",
   "execution_count": 18,
   "metadata": {},
   "outputs": [
    {
     "data": {
      "text/plain": [
       "pandas.core.series.Series"
      ]
     },
     "execution_count": 18,
     "metadata": {},
     "output_type": "execute_result"
    }
   ],
   "source": [
    "type(NA)"
   ]
  },
  {
   "cell_type": "code",
   "execution_count": 19,
   "metadata": {},
   "outputs": [
    {
     "name": "stdout",
     "output_type": "stream",
     "text": [
      "lntollmon 52.44\n",
      "lntollten 52.44\n",
      "lnequipmon 65.92\n",
      "lnequipten 65.92\n",
      "lnwiremon 73.11999999999999\n",
      "lnwireten 73.11999999999999\n"
     ]
    }
   ],
   "source": [
    "#missings\n",
    "# Dropped variables in which more than 50% values are missing\n",
    "NA = credits.isnull().sum()\n",
    "totalx=5000.00\n",
    "for var in NA.index:\n",
    "    m = NA[var]/totalx\n",
    "    m = m*100\n",
    "    if m>50.00:\n",
    "        print (var,m)\n",
    "        credits.drop(var,axis=1,inplace=True)\n",
    "        \n"
   ]
  },
  {
   "cell_type": "code",
   "execution_count": 418,
   "metadata": {},
   "outputs": [],
   "source": [
    "#Above variables are dropped"
   ]
  },
  {
   "cell_type": "code",
   "execution_count": 20,
   "metadata": {},
   "outputs": [
    {
     "data": {
      "text/plain": [
       "(5000, 122)"
      ]
     },
     "execution_count": 20,
     "metadata": {},
     "output_type": "execute_result"
    }
   ],
   "source": [
    "credits.shape"
   ]
  },
  {
   "cell_type": "code",
   "execution_count": 21,
   "metadata": {},
   "outputs": [],
   "source": [
    "# Numerical and Categorical variables selection\n",
    "#categorical features\n",
    "categor_var = ['region','townsize','agecat','edcat','empcat','inccat','jobsat','spousedcat',\n",
    "         'hometype','addresscat','cars','carown','cartype','carcatvalue',\n",
    "         'carbought','commutecat','reason','polview','card','cardtype','cardbenefit',\n",
    "         'cardtenurecat','card2','card2type','card2benefit','card2tenurecat',\n",
    "         'bfast','internet','birthmonth','jobcat']\n"
   ]
  },
  {
   "cell_type": "code",
   "execution_count": 22,
   "metadata": {},
   "outputs": [],
   "source": [
    "#since rest of the variables will be our numerical features"
   ]
  },
  {
   "cell_type": "code",
   "execution_count": 23,
   "metadata": {},
   "outputs": [],
   "source": [
    "numerical_var = credits.columns.difference( ['region','townsize','agecat','edcat','empcat','inccat','jobsat','spousedcat',\n",
    "         'hometype','addresscat','cars','carown','cartype','carcatvalue',\n",
    "         'carbought','commutecat','reason','polview','card','cardtype','cardbenefit',\n",
    "         'cardtenurecat','card2','card2type','card2benefit','card2tenurecat',\n",
    "         'bfast','internet','birthmonth'] )"
   ]
  },
  {
   "cell_type": "code",
   "execution_count": 24,
   "metadata": {},
   "outputs": [
    {
     "data": {
      "text/plain": [
       "Index(['active', 'address', 'age', 'callcard', 'callid', 'callwait', 'carbuy',\n",
       "       'card2fee', 'card2tenure', 'cardfee', 'cardmon', 'cardten',\n",
       "       'cardtenure', 'carvalue', 'churn', 'commute', 'commutebike',\n",
       "       'commutebus', 'commutecar', 'commutecarpool', 'commutemotorcycle',\n",
       "       'commutenonmotor', 'commutepublic', 'commuterail', 'commutetime',\n",
       "       'commutewalk', 'confer', 'creddebt', 'debtinc', 'default', 'ebill',\n",
       "       'ed', 'employ', 'equip', 'equipmon', 'equipten', 'forward', 'gender',\n",
       "       'homeown', 'hourstv', 'income', 'jobcat', 'ln_Total_Spend', 'lncardmon',\n",
       "       'lncardten', 'lncreddebt', 'lninc', 'lnlongmon', 'lnlongten',\n",
       "       'lnothdebt', 'longmon', 'longten', 'marital', 'multline', 'news',\n",
       "       'othdebt', 'owncd', 'owndvd', 'ownfax', 'owngame', 'ownipod', 'ownpc',\n",
       "       'ownpda', 'owntv', 'ownvcr', 'pager', 'pets', 'pets_birds', 'pets_cats',\n",
       "       'pets_dogs', 'pets_freshfish', 'pets_reptiles', 'pets_saltfish',\n",
       "       'pets_small', 'polcontrib', 'polparty', 'reside', 'response_01',\n",
       "       'response_02', 'response_03', 'retire', 'spoused', 'telecommute',\n",
       "       'tenure', 'tollfree', 'tollmon', 'tollten', 'union', 'voice', 'vote',\n",
       "       'wireless', 'wiremon', 'wireten'],\n",
       "      dtype='object')"
      ]
     },
     "execution_count": 24,
     "metadata": {},
     "output_type": "execute_result"
    }
   ],
   "source": [
    "numerical_var"
   ]
  },
  {
   "cell_type": "code",
   "execution_count": null,
   "metadata": {},
   "outputs": [],
   "source": []
  },
  {
   "cell_type": "code",
   "execution_count": 25,
   "metadata": {},
   "outputs": [
    {
     "data": {
      "text/html": [
       "<div>\n",
       "<style scoped>\n",
       "    .dataframe tbody tr th:only-of-type {\n",
       "        vertical-align: middle;\n",
       "    }\n",
       "\n",
       "    .dataframe tbody tr th {\n",
       "        vertical-align: top;\n",
       "    }\n",
       "\n",
       "    .dataframe thead th {\n",
       "        text-align: right;\n",
       "    }\n",
       "</style>\n",
       "<table border=\"1\" class=\"dataframe\">\n",
       "  <thead>\n",
       "    <tr style=\"text-align: right;\">\n",
       "      <th></th>\n",
       "      <th>active</th>\n",
       "      <th>address</th>\n",
       "      <th>age</th>\n",
       "      <th>callcard</th>\n",
       "      <th>callid</th>\n",
       "      <th>callwait</th>\n",
       "      <th>carbuy</th>\n",
       "      <th>card2fee</th>\n",
       "      <th>card2tenure</th>\n",
       "      <th>cardfee</th>\n",
       "      <th>...</th>\n",
       "      <th>tenure</th>\n",
       "      <th>tollfree</th>\n",
       "      <th>tollmon</th>\n",
       "      <th>tollten</th>\n",
       "      <th>union</th>\n",
       "      <th>voice</th>\n",
       "      <th>vote</th>\n",
       "      <th>wireless</th>\n",
       "      <th>wiremon</th>\n",
       "      <th>wireten</th>\n",
       "    </tr>\n",
       "  </thead>\n",
       "  <tbody>\n",
       "    <tr>\n",
       "      <th>0</th>\n",
       "      <td>0</td>\n",
       "      <td>0</td>\n",
       "      <td>20</td>\n",
       "      <td>1</td>\n",
       "      <td>0</td>\n",
       "      <td>1</td>\n",
       "      <td>0</td>\n",
       "      <td>0</td>\n",
       "      <td>3</td>\n",
       "      <td>0</td>\n",
       "      <td>...</td>\n",
       "      <td>5</td>\n",
       "      <td>1</td>\n",
       "      <td>29.0</td>\n",
       "      <td>161.05</td>\n",
       "      <td>1</td>\n",
       "      <td>1</td>\n",
       "      <td>1</td>\n",
       "      <td>0</td>\n",
       "      <td>0.00</td>\n",
       "      <td>0.00</td>\n",
       "    </tr>\n",
       "    <tr>\n",
       "      <th>1</th>\n",
       "      <td>1</td>\n",
       "      <td>2</td>\n",
       "      <td>22</td>\n",
       "      <td>1</td>\n",
       "      <td>1</td>\n",
       "      <td>0</td>\n",
       "      <td>0</td>\n",
       "      <td>0</td>\n",
       "      <td>4</td>\n",
       "      <td>0</td>\n",
       "      <td>...</td>\n",
       "      <td>39</td>\n",
       "      <td>0</td>\n",
       "      <td>0.0</td>\n",
       "      <td>0.00</td>\n",
       "      <td>0</td>\n",
       "      <td>1</td>\n",
       "      <td>0</td>\n",
       "      <td>1</td>\n",
       "      <td>45.65</td>\n",
       "      <td>1683.55</td>\n",
       "    </tr>\n",
       "    <tr>\n",
       "      <th>2</th>\n",
       "      <td>0</td>\n",
       "      <td>30</td>\n",
       "      <td>67</td>\n",
       "      <td>1</td>\n",
       "      <td>0</td>\n",
       "      <td>0</td>\n",
       "      <td>1</td>\n",
       "      <td>0</td>\n",
       "      <td>25</td>\n",
       "      <td>0</td>\n",
       "      <td>...</td>\n",
       "      <td>65</td>\n",
       "      <td>0</td>\n",
       "      <td>0.0</td>\n",
       "      <td>0.00</td>\n",
       "      <td>0</td>\n",
       "      <td>0</td>\n",
       "      <td>0</td>\n",
       "      <td>0</td>\n",
       "      <td>0.00</td>\n",
       "      <td>0.00</td>\n",
       "    </tr>\n",
       "    <tr>\n",
       "      <th>3</th>\n",
       "      <td>1</td>\n",
       "      <td>3</td>\n",
       "      <td>23</td>\n",
       "      <td>1</td>\n",
       "      <td>0</td>\n",
       "      <td>0</td>\n",
       "      <td>1</td>\n",
       "      <td>0</td>\n",
       "      <td>5</td>\n",
       "      <td>0</td>\n",
       "      <td>...</td>\n",
       "      <td>36</td>\n",
       "      <td>0</td>\n",
       "      <td>0.0</td>\n",
       "      <td>0.00</td>\n",
       "      <td>0</td>\n",
       "      <td>0</td>\n",
       "      <td>0</td>\n",
       "      <td>0</td>\n",
       "      <td>0.00</td>\n",
       "      <td>0.00</td>\n",
       "    </tr>\n",
       "    <tr>\n",
       "      <th>4</th>\n",
       "      <td>1</td>\n",
       "      <td>3</td>\n",
       "      <td>26</td>\n",
       "      <td>1</td>\n",
       "      <td>1</td>\n",
       "      <td>1</td>\n",
       "      <td>1</td>\n",
       "      <td>0</td>\n",
       "      <td>9</td>\n",
       "      <td>0</td>\n",
       "      <td>...</td>\n",
       "      <td>21</td>\n",
       "      <td>1</td>\n",
       "      <td>16.5</td>\n",
       "      <td>387.70</td>\n",
       "      <td>0</td>\n",
       "      <td>1</td>\n",
       "      <td>0</td>\n",
       "      <td>1</td>\n",
       "      <td>19.05</td>\n",
       "      <td>410.80</td>\n",
       "    </tr>\n",
       "  </tbody>\n",
       "</table>\n",
       "<p>5 rows × 93 columns</p>\n",
       "</div>"
      ],
      "text/plain": [
       "   active  address  age  callcard  callid  callwait  carbuy  card2fee  \\\n",
       "0       0        0   20         1       0         1       0         0   \n",
       "1       1        2   22         1       1         0       0         0   \n",
       "2       0       30   67         1       0         0       1         0   \n",
       "3       1        3   23         1       0         0       1         0   \n",
       "4       1        3   26         1       1         1       1         0   \n",
       "\n",
       "   card2tenure  cardfee  ...  tenure  tollfree  tollmon  tollten  union  \\\n",
       "0            3        0  ...       5         1     29.0   161.05      1   \n",
       "1            4        0  ...      39         0      0.0     0.00      0   \n",
       "2           25        0  ...      65         0      0.0     0.00      0   \n",
       "3            5        0  ...      36         0      0.0     0.00      0   \n",
       "4            9        0  ...      21         1     16.5   387.70      0   \n",
       "\n",
       "   voice  vote  wireless  wiremon  wireten  \n",
       "0      1     1         0     0.00     0.00  \n",
       "1      1     0         1    45.65  1683.55  \n",
       "2      0     0         0     0.00     0.00  \n",
       "3      0     0         0     0.00     0.00  \n",
       "4      1     0         1    19.05   410.80  \n",
       "\n",
       "[5 rows x 93 columns]"
      ]
     },
     "execution_count": 25,
     "metadata": {},
     "output_type": "execute_result"
    }
   ],
   "source": [
    "credits_num=credits[numerical_var]\n",
    "credits_num.head(5)"
   ]
  },
  {
   "cell_type": "code",
   "execution_count": 26,
   "metadata": {},
   "outputs": [
    {
     "data": {
      "text/html": [
       "<div>\n",
       "<style scoped>\n",
       "    .dataframe tbody tr th:only-of-type {\n",
       "        vertical-align: middle;\n",
       "    }\n",
       "\n",
       "    .dataframe tbody tr th {\n",
       "        vertical-align: top;\n",
       "    }\n",
       "\n",
       "    .dataframe thead th {\n",
       "        text-align: right;\n",
       "    }\n",
       "</style>\n",
       "<table border=\"1\" class=\"dataframe\">\n",
       "  <thead>\n",
       "    <tr style=\"text-align: right;\">\n",
       "      <th></th>\n",
       "      <th>region</th>\n",
       "      <th>townsize</th>\n",
       "      <th>agecat</th>\n",
       "      <th>edcat</th>\n",
       "      <th>empcat</th>\n",
       "      <th>inccat</th>\n",
       "      <th>jobsat</th>\n",
       "      <th>spousedcat</th>\n",
       "      <th>hometype</th>\n",
       "      <th>addresscat</th>\n",
       "      <th>...</th>\n",
       "      <th>cardbenefit</th>\n",
       "      <th>cardtenurecat</th>\n",
       "      <th>card2</th>\n",
       "      <th>card2type</th>\n",
       "      <th>card2benefit</th>\n",
       "      <th>card2tenurecat</th>\n",
       "      <th>bfast</th>\n",
       "      <th>internet</th>\n",
       "      <th>birthmonth</th>\n",
       "      <th>jobcat</th>\n",
       "    </tr>\n",
       "  </thead>\n",
       "  <tbody>\n",
       "    <tr>\n",
       "      <th>0</th>\n",
       "      <td>1</td>\n",
       "      <td>2.0</td>\n",
       "      <td>2</td>\n",
       "      <td>3</td>\n",
       "      <td>1</td>\n",
       "      <td>2</td>\n",
       "      <td>1</td>\n",
       "      <td>-1</td>\n",
       "      <td>2</td>\n",
       "      <td>1</td>\n",
       "      <td>...</td>\n",
       "      <td>1</td>\n",
       "      <td>2</td>\n",
       "      <td>5</td>\n",
       "      <td>3</td>\n",
       "      <td>1</td>\n",
       "      <td>2</td>\n",
       "      <td>3</td>\n",
       "      <td>0</td>\n",
       "      <td>September</td>\n",
       "      <td>1</td>\n",
       "    </tr>\n",
       "    <tr>\n",
       "      <th>1</th>\n",
       "      <td>5</td>\n",
       "      <td>5.0</td>\n",
       "      <td>2</td>\n",
       "      <td>4</td>\n",
       "      <td>1</td>\n",
       "      <td>1</td>\n",
       "      <td>1</td>\n",
       "      <td>-1</td>\n",
       "      <td>3</td>\n",
       "      <td>1</td>\n",
       "      <td>...</td>\n",
       "      <td>1</td>\n",
       "      <td>2</td>\n",
       "      <td>4</td>\n",
       "      <td>1</td>\n",
       "      <td>3</td>\n",
       "      <td>2</td>\n",
       "      <td>1</td>\n",
       "      <td>4</td>\n",
       "      <td>May</td>\n",
       "      <td>2</td>\n",
       "    </tr>\n",
       "    <tr>\n",
       "      <th>2</th>\n",
       "      <td>3</td>\n",
       "      <td>4.0</td>\n",
       "      <td>6</td>\n",
       "      <td>2</td>\n",
       "      <td>5</td>\n",
       "      <td>2</td>\n",
       "      <td>4</td>\n",
       "      <td>2</td>\n",
       "      <td>1</td>\n",
       "      <td>5</td>\n",
       "      <td>...</td>\n",
       "      <td>4</td>\n",
       "      <td>5</td>\n",
       "      <td>4</td>\n",
       "      <td>1</td>\n",
       "      <td>3</td>\n",
       "      <td>5</td>\n",
       "      <td>3</td>\n",
       "      <td>0</td>\n",
       "      <td>June</td>\n",
       "      <td>2</td>\n",
       "    </tr>\n",
       "    <tr>\n",
       "      <th>3</th>\n",
       "      <td>4</td>\n",
       "      <td>3.0</td>\n",
       "      <td>2</td>\n",
       "      <td>3</td>\n",
       "      <td>1</td>\n",
       "      <td>1</td>\n",
       "      <td>2</td>\n",
       "      <td>4</td>\n",
       "      <td>3</td>\n",
       "      <td>2</td>\n",
       "      <td>...</td>\n",
       "      <td>4</td>\n",
       "      <td>2</td>\n",
       "      <td>3</td>\n",
       "      <td>2</td>\n",
       "      <td>4</td>\n",
       "      <td>2</td>\n",
       "      <td>1</td>\n",
       "      <td>2</td>\n",
       "      <td>May</td>\n",
       "      <td>2</td>\n",
       "    </tr>\n",
       "    <tr>\n",
       "      <th>4</th>\n",
       "      <td>2</td>\n",
       "      <td>2.0</td>\n",
       "      <td>3</td>\n",
       "      <td>3</td>\n",
       "      <td>1</td>\n",
       "      <td>1</td>\n",
       "      <td>1</td>\n",
       "      <td>2</td>\n",
       "      <td>2</td>\n",
       "      <td>2</td>\n",
       "      <td>...</td>\n",
       "      <td>1</td>\n",
       "      <td>3</td>\n",
       "      <td>1</td>\n",
       "      <td>3</td>\n",
       "      <td>2</td>\n",
       "      <td>3</td>\n",
       "      <td>3</td>\n",
       "      <td>3</td>\n",
       "      <td>July</td>\n",
       "      <td>2</td>\n",
       "    </tr>\n",
       "  </tbody>\n",
       "</table>\n",
       "<p>5 rows × 30 columns</p>\n",
       "</div>"
      ],
      "text/plain": [
       "   region  townsize  agecat  edcat  empcat  inccat  jobsat  spousedcat  \\\n",
       "0       1       2.0       2      3       1       2       1          -1   \n",
       "1       5       5.0       2      4       1       1       1          -1   \n",
       "2       3       4.0       6      2       5       2       4           2   \n",
       "3       4       3.0       2      3       1       1       2           4   \n",
       "4       2       2.0       3      3       1       1       1           2   \n",
       "\n",
       "   hometype  addresscat  ...  cardbenefit  cardtenurecat  card2  card2type  \\\n",
       "0         2           1  ...            1              2      5          3   \n",
       "1         3           1  ...            1              2      4          1   \n",
       "2         1           5  ...            4              5      4          1   \n",
       "3         3           2  ...            4              2      3          2   \n",
       "4         2           2  ...            1              3      1          3   \n",
       "\n",
       "   card2benefit  card2tenurecat  bfast  internet  birthmonth  jobcat  \n",
       "0             1               2      3         0   September       1  \n",
       "1             3               2      1         4         May       2  \n",
       "2             3               5      3         0        June       2  \n",
       "3             4               2      1         2         May       2  \n",
       "4             2               3      3         3        July       2  \n",
       "\n",
       "[5 rows x 30 columns]"
      ]
     },
     "execution_count": 26,
     "metadata": {},
     "output_type": "execute_result"
    }
   ],
   "source": [
    "credits_cat=credits[categor_var]\n",
    "credits_cat.head(5)"
   ]
  },
  {
   "cell_type": "code",
   "execution_count": null,
   "metadata": {},
   "outputs": [],
   "source": []
  },
  {
   "cell_type": "code",
   "execution_count": 31,
   "metadata": {},
   "outputs": [],
   "source": [
    "#Handling missings - for categorical Dataframe\n",
    "def Missing_imputation_Cat(x):\n",
    "    x = x.fillna(x.mode()[0])\n",
    "    return x\n",
    "\n",
    "credits_cat=credits_cat.apply(lambda x: Missing_imputation_Cat(x))\n"
   ]
  },
  {
   "cell_type": "code",
   "execution_count": 30,
   "metadata": {},
   "outputs": [
    {
     "data": {
      "text/plain": [
       "1.0"
      ]
     },
     "execution_count": 30,
     "metadata": {},
     "output_type": "execute_result"
    }
   ],
   "source": [
    "type(credits_cat)\n",
    "credits_cat['townsize'].mode()[0]"
   ]
  },
  {
   "cell_type": "code",
   "execution_count": 34,
   "metadata": {},
   "outputs": [],
   "source": [
    "# Creating Data audit Report\n",
    "# Use a general function that returns multiple values\n",
    "def cat_summary(x):\n",
    "    return pd.Series([x.count(), x.isnull().sum(), x.value_counts()], \n",
    "                  index=['N', 'NMISS', 'ColumnsNames'])\n",
    "\n",
    "cat_summary=credits_cat.apply(lambda x: cat_summary(x))"
   ]
  },
  {
   "cell_type": "code",
   "execution_count": 35,
   "metadata": {
    "scrolled": true
   },
   "outputs": [
    {
     "data": {
      "text/html": [
       "<div>\n",
       "<style scoped>\n",
       "    .dataframe tbody tr th:only-of-type {\n",
       "        vertical-align: middle;\n",
       "    }\n",
       "\n",
       "    .dataframe tbody tr th {\n",
       "        vertical-align: top;\n",
       "    }\n",
       "\n",
       "    .dataframe thead th {\n",
       "        text-align: right;\n",
       "    }\n",
       "</style>\n",
       "<table border=\"1\" class=\"dataframe\">\n",
       "  <thead>\n",
       "    <tr style=\"text-align: right;\">\n",
       "      <th></th>\n",
       "      <th>region</th>\n",
       "      <th>townsize</th>\n",
       "      <th>agecat</th>\n",
       "      <th>edcat</th>\n",
       "      <th>empcat</th>\n",
       "      <th>inccat</th>\n",
       "      <th>jobsat</th>\n",
       "      <th>spousedcat</th>\n",
       "      <th>hometype</th>\n",
       "      <th>addresscat</th>\n",
       "      <th>...</th>\n",
       "      <th>cardbenefit</th>\n",
       "      <th>cardtenurecat</th>\n",
       "      <th>card2</th>\n",
       "      <th>card2type</th>\n",
       "      <th>card2benefit</th>\n",
       "      <th>card2tenurecat</th>\n",
       "      <th>bfast</th>\n",
       "      <th>internet</th>\n",
       "      <th>birthmonth</th>\n",
       "      <th>jobcat</th>\n",
       "    </tr>\n",
       "  </thead>\n",
       "  <tbody>\n",
       "    <tr>\n",
       "      <th>N</th>\n",
       "      <td>5000</td>\n",
       "      <td>5000</td>\n",
       "      <td>5000</td>\n",
       "      <td>5000</td>\n",
       "      <td>5000</td>\n",
       "      <td>5000</td>\n",
       "      <td>5000</td>\n",
       "      <td>5000</td>\n",
       "      <td>5000</td>\n",
       "      <td>5000</td>\n",
       "      <td>...</td>\n",
       "      <td>5000</td>\n",
       "      <td>5000</td>\n",
       "      <td>5000</td>\n",
       "      <td>5000</td>\n",
       "      <td>5000</td>\n",
       "      <td>5000</td>\n",
       "      <td>5000</td>\n",
       "      <td>5000</td>\n",
       "      <td>5000</td>\n",
       "      <td>5000</td>\n",
       "    </tr>\n",
       "    <tr>\n",
       "      <th>NMISS</th>\n",
       "      <td>0</td>\n",
       "      <td>0</td>\n",
       "      <td>0</td>\n",
       "      <td>0</td>\n",
       "      <td>0</td>\n",
       "      <td>0</td>\n",
       "      <td>0</td>\n",
       "      <td>0</td>\n",
       "      <td>0</td>\n",
       "      <td>0</td>\n",
       "      <td>...</td>\n",
       "      <td>0</td>\n",
       "      <td>0</td>\n",
       "      <td>0</td>\n",
       "      <td>0</td>\n",
       "      <td>0</td>\n",
       "      <td>0</td>\n",
       "      <td>0</td>\n",
       "      <td>0</td>\n",
       "      <td>0</td>\n",
       "      <td>0</td>\n",
       "    </tr>\n",
       "    <tr>\n",
       "      <th>ColumnsNames</th>\n",
       "      <td>5    1027\n",
       "1    1009\n",
       "3    1003\n",
       "2     995\n",
       "4     ...</td>\n",
       "      <td>1.0    1438\n",
       "2.0    1048\n",
       "3.0     907\n",
       "4.0     85...</td>\n",
       "      <td>4    1222\n",
       "5    1195\n",
       "6    1068\n",
       "3     893\n",
       "2     ...</td>\n",
       "      <td>2    1567\n",
       "4    1111\n",
       "3    1022\n",
       "1     946\n",
       "5     ...</td>\n",
       "      <td>2    1180\n",
       "5    1135\n",
       "1    1048\n",
       "3     968\n",
       "4     ...</td>\n",
       "      <td>2    1797\n",
       "1    1330\n",
       "3     839\n",
       "4     650\n",
       "5     ...</td>\n",
       "      <td>3    1085\n",
       "2    1031\n",
       "4    1016\n",
       "1     975\n",
       "5     ...</td>\n",
       "      <td>-1    2599\n",
       " 2     789\n",
       " 1     606\n",
       " 3     507\n",
       " 4...</td>\n",
       "      <td>1    2265\n",
       "2    1548\n",
       "3     896\n",
       "4     291\n",
       "Name: ...</td>\n",
       "      <td>3    1221\n",
       "5    1157\n",
       "4    1139\n",
       "2     873\n",
       "1     ...</td>\n",
       "      <td>...</td>\n",
       "      <td>3    1274\n",
       "4    1250\n",
       "1    1245\n",
       "2    1231\n",
       "Name: ...</td>\n",
       "      <td>5    2351\n",
       "2     847\n",
       "3     789\n",
       "4     694\n",
       "1     ...</td>\n",
       "      <td>3    1384\n",
       "2    1301\n",
       "4    1141\n",
       "1     829\n",
       "5     ...</td>\n",
       "      <td>4    1319\n",
       "3    1257\n",
       "2    1235\n",
       "1    1189\n",
       "Name: ...</td>\n",
       "      <td>4    1294\n",
       "3    1286\n",
       "2    1216\n",
       "1    1204\n",
       "Name: ...</td>\n",
       "      <td>5    1923\n",
       "2    1019\n",
       "3     933\n",
       "4     760\n",
       "1     ...</td>\n",
       "      <td>3    1875\n",
       "1    1582\n",
       "2    1543\n",
       "Name: bfast, dty...</td>\n",
       "      <td>0    2498\n",
       "1     774\n",
       "3     598\n",
       "4     585\n",
       "2     ...</td>\n",
       "      <td>September    458\n",
       "May          451\n",
       "June        ...</td>\n",
       "      <td>2    1640\n",
       "1    1388\n",
       "6     688\n",
       "3     620\n",
       "5     ...</td>\n",
       "    </tr>\n",
       "  </tbody>\n",
       "</table>\n",
       "<p>3 rows × 30 columns</p>\n",
       "</div>"
      ],
      "text/plain": [
       "                                                         region  \\\n",
       "N                                                          5000   \n",
       "NMISS                                                         0   \n",
       "ColumnsNames  5    1027\n",
       "1    1009\n",
       "3    1003\n",
       "2     995\n",
       "4     ...   \n",
       "\n",
       "                                                       townsize  \\\n",
       "N                                                          5000   \n",
       "NMISS                                                         0   \n",
       "ColumnsNames  1.0    1438\n",
       "2.0    1048\n",
       "3.0     907\n",
       "4.0     85...   \n",
       "\n",
       "                                                         agecat  \\\n",
       "N                                                          5000   \n",
       "NMISS                                                         0   \n",
       "ColumnsNames  4    1222\n",
       "5    1195\n",
       "6    1068\n",
       "3     893\n",
       "2     ...   \n",
       "\n",
       "                                                          edcat  \\\n",
       "N                                                          5000   \n",
       "NMISS                                                         0   \n",
       "ColumnsNames  2    1567\n",
       "4    1111\n",
       "3    1022\n",
       "1     946\n",
       "5     ...   \n",
       "\n",
       "                                                         empcat  \\\n",
       "N                                                          5000   \n",
       "NMISS                                                         0   \n",
       "ColumnsNames  2    1180\n",
       "5    1135\n",
       "1    1048\n",
       "3     968\n",
       "4     ...   \n",
       "\n",
       "                                                         inccat  \\\n",
       "N                                                          5000   \n",
       "NMISS                                                         0   \n",
       "ColumnsNames  2    1797\n",
       "1    1330\n",
       "3     839\n",
       "4     650\n",
       "5     ...   \n",
       "\n",
       "                                                         jobsat  \\\n",
       "N                                                          5000   \n",
       "NMISS                                                         0   \n",
       "ColumnsNames  3    1085\n",
       "2    1031\n",
       "4    1016\n",
       "1     975\n",
       "5     ...   \n",
       "\n",
       "                                                     spousedcat  \\\n",
       "N                                                          5000   \n",
       "NMISS                                                         0   \n",
       "ColumnsNames  -1    2599\n",
       " 2     789\n",
       " 1     606\n",
       " 3     507\n",
       " 4...   \n",
       "\n",
       "                                                       hometype  \\\n",
       "N                                                          5000   \n",
       "NMISS                                                         0   \n",
       "ColumnsNames  1    2265\n",
       "2    1548\n",
       "3     896\n",
       "4     291\n",
       "Name: ...   \n",
       "\n",
       "                                                     addresscat  ...  \\\n",
       "N                                                          5000  ...   \n",
       "NMISS                                                         0  ...   \n",
       "ColumnsNames  3    1221\n",
       "5    1157\n",
       "4    1139\n",
       "2     873\n",
       "1     ...  ...   \n",
       "\n",
       "                                                    cardbenefit  \\\n",
       "N                                                          5000   \n",
       "NMISS                                                         0   \n",
       "ColumnsNames  3    1274\n",
       "4    1250\n",
       "1    1245\n",
       "2    1231\n",
       "Name: ...   \n",
       "\n",
       "                                                  cardtenurecat  \\\n",
       "N                                                          5000   \n",
       "NMISS                                                         0   \n",
       "ColumnsNames  5    2351\n",
       "2     847\n",
       "3     789\n",
       "4     694\n",
       "1     ...   \n",
       "\n",
       "                                                          card2  \\\n",
       "N                                                          5000   \n",
       "NMISS                                                         0   \n",
       "ColumnsNames  3    1384\n",
       "2    1301\n",
       "4    1141\n",
       "1     829\n",
       "5     ...   \n",
       "\n",
       "                                                      card2type  \\\n",
       "N                                                          5000   \n",
       "NMISS                                                         0   \n",
       "ColumnsNames  4    1319\n",
       "3    1257\n",
       "2    1235\n",
       "1    1189\n",
       "Name: ...   \n",
       "\n",
       "                                                   card2benefit  \\\n",
       "N                                                          5000   \n",
       "NMISS                                                         0   \n",
       "ColumnsNames  4    1294\n",
       "3    1286\n",
       "2    1216\n",
       "1    1204\n",
       "Name: ...   \n",
       "\n",
       "                                                 card2tenurecat  \\\n",
       "N                                                          5000   \n",
       "NMISS                                                         0   \n",
       "ColumnsNames  5    1923\n",
       "2    1019\n",
       "3     933\n",
       "4     760\n",
       "1     ...   \n",
       "\n",
       "                                                          bfast  \\\n",
       "N                                                          5000   \n",
       "NMISS                                                         0   \n",
       "ColumnsNames  3    1875\n",
       "1    1582\n",
       "2    1543\n",
       "Name: bfast, dty...   \n",
       "\n",
       "                                                       internet  \\\n",
       "N                                                          5000   \n",
       "NMISS                                                         0   \n",
       "ColumnsNames  0    2498\n",
       "1     774\n",
       "3     598\n",
       "4     585\n",
       "2     ...   \n",
       "\n",
       "                                                     birthmonth  \\\n",
       "N                                                          5000   \n",
       "NMISS                                                         0   \n",
       "ColumnsNames  September    458\n",
       "May          451\n",
       "June        ...   \n",
       "\n",
       "                                                         jobcat  \n",
       "N                                                          5000  \n",
       "NMISS                                                         0  \n",
       "ColumnsNames  2    1640\n",
       "1    1388\n",
       "6     688\n",
       "3     620\n",
       "5     ...  \n",
       "\n",
       "[3 rows x 30 columns]"
      ]
     },
     "execution_count": 35,
     "metadata": {},
     "output_type": "execute_result"
    }
   ],
   "source": [
    "cat_summary"
   ]
  },
  {
   "cell_type": "code",
   "execution_count": 32,
   "metadata": {},
   "outputs": [
    {
     "data": {
      "text/html": [
       "<div>\n",
       "<style scoped>\n",
       "    .dataframe tbody tr th:only-of-type {\n",
       "        vertical-align: middle;\n",
       "    }\n",
       "\n",
       "    .dataframe tbody tr th {\n",
       "        vertical-align: top;\n",
       "    }\n",
       "\n",
       "    .dataframe thead th {\n",
       "        text-align: right;\n",
       "    }\n",
       "</style>\n",
       "<table border=\"1\" class=\"dataframe\">\n",
       "  <thead>\n",
       "    <tr style=\"text-align: right;\">\n",
       "      <th></th>\n",
       "      <th>region</th>\n",
       "      <th>townsize</th>\n",
       "      <th>agecat</th>\n",
       "      <th>edcat</th>\n",
       "      <th>empcat</th>\n",
       "      <th>inccat</th>\n",
       "      <th>jobsat</th>\n",
       "      <th>spousedcat</th>\n",
       "      <th>hometype</th>\n",
       "      <th>addresscat</th>\n",
       "      <th>...</th>\n",
       "      <th>cardtype</th>\n",
       "      <th>cardbenefit</th>\n",
       "      <th>cardtenurecat</th>\n",
       "      <th>card2</th>\n",
       "      <th>card2type</th>\n",
       "      <th>card2benefit</th>\n",
       "      <th>card2tenurecat</th>\n",
       "      <th>bfast</th>\n",
       "      <th>internet</th>\n",
       "      <th>jobcat</th>\n",
       "    </tr>\n",
       "  </thead>\n",
       "  <tbody>\n",
       "    <tr>\n",
       "      <th>count</th>\n",
       "      <td>5000.00000</td>\n",
       "      <td>5000.000000</td>\n",
       "      <td>5000.000000</td>\n",
       "      <td>5000.000000</td>\n",
       "      <td>5000.0000</td>\n",
       "      <td>5000.000000</td>\n",
       "      <td>5000.000000</td>\n",
       "      <td>5000.000000</td>\n",
       "      <td>5000.00000</td>\n",
       "      <td>5000.000000</td>\n",
       "      <td>...</td>\n",
       "      <td>5000.000000</td>\n",
       "      <td>5000.000000</td>\n",
       "      <td>5000.000000</td>\n",
       "      <td>5000.000000</td>\n",
       "      <td>5000.000000</td>\n",
       "      <td>5000.000000</td>\n",
       "      <td>5000.000000</td>\n",
       "      <td>5000.00000</td>\n",
       "      <td>5000.000000</td>\n",
       "      <td>5000.0000</td>\n",
       "    </tr>\n",
       "    <tr>\n",
       "      <th>mean</th>\n",
       "      <td>3.00140</td>\n",
       "      <td>2.686600</td>\n",
       "      <td>4.238800</td>\n",
       "      <td>2.672000</td>\n",
       "      <td>2.9326</td>\n",
       "      <td>2.392200</td>\n",
       "      <td>2.964200</td>\n",
       "      <td>0.641400</td>\n",
       "      <td>1.84260</td>\n",
       "      <td>3.272000</td>\n",
       "      <td>...</td>\n",
       "      <td>2.507000</td>\n",
       "      <td>2.505800</td>\n",
       "      <td>3.782200</td>\n",
       "      <td>2.774400</td>\n",
       "      <td>2.541200</td>\n",
       "      <td>2.534000</td>\n",
       "      <td>3.571400</td>\n",
       "      <td>2.05860</td>\n",
       "      <td>1.199600</td>\n",
       "      <td>2.7528</td>\n",
       "    </tr>\n",
       "    <tr>\n",
       "      <th>std</th>\n",
       "      <td>1.42176</td>\n",
       "      <td>1.426039</td>\n",
       "      <td>1.308785</td>\n",
       "      <td>1.211738</td>\n",
       "      <td>1.4533</td>\n",
       "      <td>1.221261</td>\n",
       "      <td>1.379456</td>\n",
       "      <td>1.886775</td>\n",
       "      <td>0.91673</td>\n",
       "      <td>1.319987</td>\n",
       "      <td>...</td>\n",
       "      <td>1.118482</td>\n",
       "      <td>1.117236</td>\n",
       "      <td>1.353783</td>\n",
       "      <td>1.173448</td>\n",
       "      <td>1.118818</td>\n",
       "      <td>1.117271</td>\n",
       "      <td>1.363845</td>\n",
       "      <td>0.82952</td>\n",
       "      <td>1.449338</td>\n",
       "      <td>1.7379</td>\n",
       "    </tr>\n",
       "    <tr>\n",
       "      <th>min</th>\n",
       "      <td>1.00000</td>\n",
       "      <td>1.000000</td>\n",
       "      <td>2.000000</td>\n",
       "      <td>1.000000</td>\n",
       "      <td>1.0000</td>\n",
       "      <td>1.000000</td>\n",
       "      <td>1.000000</td>\n",
       "      <td>-1.000000</td>\n",
       "      <td>1.00000</td>\n",
       "      <td>1.000000</td>\n",
       "      <td>...</td>\n",
       "      <td>1.000000</td>\n",
       "      <td>1.000000</td>\n",
       "      <td>1.000000</td>\n",
       "      <td>1.000000</td>\n",
       "      <td>1.000000</td>\n",
       "      <td>1.000000</td>\n",
       "      <td>1.000000</td>\n",
       "      <td>1.00000</td>\n",
       "      <td>0.000000</td>\n",
       "      <td>1.0000</td>\n",
       "    </tr>\n",
       "    <tr>\n",
       "      <th>25%</th>\n",
       "      <td>2.00000</td>\n",
       "      <td>1.000000</td>\n",
       "      <td>3.000000</td>\n",
       "      <td>2.000000</td>\n",
       "      <td>2.0000</td>\n",
       "      <td>1.000000</td>\n",
       "      <td>2.000000</td>\n",
       "      <td>-1.000000</td>\n",
       "      <td>1.00000</td>\n",
       "      <td>2.000000</td>\n",
       "      <td>...</td>\n",
       "      <td>2.000000</td>\n",
       "      <td>2.000000</td>\n",
       "      <td>3.000000</td>\n",
       "      <td>2.000000</td>\n",
       "      <td>2.000000</td>\n",
       "      <td>2.000000</td>\n",
       "      <td>2.000000</td>\n",
       "      <td>1.00000</td>\n",
       "      <td>0.000000</td>\n",
       "      <td>1.0000</td>\n",
       "    </tr>\n",
       "    <tr>\n",
       "      <th>50%</th>\n",
       "      <td>3.00000</td>\n",
       "      <td>3.000000</td>\n",
       "      <td>4.000000</td>\n",
       "      <td>2.000000</td>\n",
       "      <td>3.0000</td>\n",
       "      <td>2.000000</td>\n",
       "      <td>3.000000</td>\n",
       "      <td>-1.000000</td>\n",
       "      <td>2.00000</td>\n",
       "      <td>3.000000</td>\n",
       "      <td>...</td>\n",
       "      <td>3.000000</td>\n",
       "      <td>3.000000</td>\n",
       "      <td>4.000000</td>\n",
       "      <td>3.000000</td>\n",
       "      <td>3.000000</td>\n",
       "      <td>3.000000</td>\n",
       "      <td>4.000000</td>\n",
       "      <td>2.00000</td>\n",
       "      <td>1.000000</td>\n",
       "      <td>2.0000</td>\n",
       "    </tr>\n",
       "    <tr>\n",
       "      <th>75%</th>\n",
       "      <td>4.00000</td>\n",
       "      <td>4.000000</td>\n",
       "      <td>5.000000</td>\n",
       "      <td>4.000000</td>\n",
       "      <td>4.0000</td>\n",
       "      <td>3.000000</td>\n",
       "      <td>4.000000</td>\n",
       "      <td>2.000000</td>\n",
       "      <td>2.00000</td>\n",
       "      <td>4.000000</td>\n",
       "      <td>...</td>\n",
       "      <td>4.000000</td>\n",
       "      <td>3.250000</td>\n",
       "      <td>5.000000</td>\n",
       "      <td>4.000000</td>\n",
       "      <td>4.000000</td>\n",
       "      <td>4.000000</td>\n",
       "      <td>5.000000</td>\n",
       "      <td>3.00000</td>\n",
       "      <td>2.000000</td>\n",
       "      <td>4.0000</td>\n",
       "    </tr>\n",
       "    <tr>\n",
       "      <th>max</th>\n",
       "      <td>5.00000</td>\n",
       "      <td>5.000000</td>\n",
       "      <td>6.000000</td>\n",
       "      <td>5.000000</td>\n",
       "      <td>5.0000</td>\n",
       "      <td>5.000000</td>\n",
       "      <td>5.000000</td>\n",
       "      <td>5.000000</td>\n",
       "      <td>4.00000</td>\n",
       "      <td>5.000000</td>\n",
       "      <td>...</td>\n",
       "      <td>4.000000</td>\n",
       "      <td>4.000000</td>\n",
       "      <td>5.000000</td>\n",
       "      <td>5.000000</td>\n",
       "      <td>4.000000</td>\n",
       "      <td>4.000000</td>\n",
       "      <td>5.000000</td>\n",
       "      <td>3.00000</td>\n",
       "      <td>4.000000</td>\n",
       "      <td>6.0000</td>\n",
       "    </tr>\n",
       "  </tbody>\n",
       "</table>\n",
       "<p>8 rows × 29 columns</p>\n",
       "</div>"
      ],
      "text/plain": [
       "           region     townsize       agecat        edcat     empcat  \\\n",
       "count  5000.00000  5000.000000  5000.000000  5000.000000  5000.0000   \n",
       "mean      3.00140     2.686600     4.238800     2.672000     2.9326   \n",
       "std       1.42176     1.426039     1.308785     1.211738     1.4533   \n",
       "min       1.00000     1.000000     2.000000     1.000000     1.0000   \n",
       "25%       2.00000     1.000000     3.000000     2.000000     2.0000   \n",
       "50%       3.00000     3.000000     4.000000     2.000000     3.0000   \n",
       "75%       4.00000     4.000000     5.000000     4.000000     4.0000   \n",
       "max       5.00000     5.000000     6.000000     5.000000     5.0000   \n",
       "\n",
       "            inccat       jobsat   spousedcat    hometype   addresscat  ...  \\\n",
       "count  5000.000000  5000.000000  5000.000000  5000.00000  5000.000000  ...   \n",
       "mean      2.392200     2.964200     0.641400     1.84260     3.272000  ...   \n",
       "std       1.221261     1.379456     1.886775     0.91673     1.319987  ...   \n",
       "min       1.000000     1.000000    -1.000000     1.00000     1.000000  ...   \n",
       "25%       1.000000     2.000000    -1.000000     1.00000     2.000000  ...   \n",
       "50%       2.000000     3.000000    -1.000000     2.00000     3.000000  ...   \n",
       "75%       3.000000     4.000000     2.000000     2.00000     4.000000  ...   \n",
       "max       5.000000     5.000000     5.000000     4.00000     5.000000  ...   \n",
       "\n",
       "          cardtype  cardbenefit  cardtenurecat        card2    card2type  \\\n",
       "count  5000.000000  5000.000000    5000.000000  5000.000000  5000.000000   \n",
       "mean      2.507000     2.505800       3.782200     2.774400     2.541200   \n",
       "std       1.118482     1.117236       1.353783     1.173448     1.118818   \n",
       "min       1.000000     1.000000       1.000000     1.000000     1.000000   \n",
       "25%       2.000000     2.000000       3.000000     2.000000     2.000000   \n",
       "50%       3.000000     3.000000       4.000000     3.000000     3.000000   \n",
       "75%       4.000000     3.250000       5.000000     4.000000     4.000000   \n",
       "max       4.000000     4.000000       5.000000     5.000000     4.000000   \n",
       "\n",
       "       card2benefit  card2tenurecat       bfast     internet     jobcat  \n",
       "count   5000.000000     5000.000000  5000.00000  5000.000000  5000.0000  \n",
       "mean       2.534000        3.571400     2.05860     1.199600     2.7528  \n",
       "std        1.117271        1.363845     0.82952     1.449338     1.7379  \n",
       "min        1.000000        1.000000     1.00000     0.000000     1.0000  \n",
       "25%        2.000000        2.000000     1.00000     0.000000     1.0000  \n",
       "50%        3.000000        4.000000     2.00000     1.000000     2.0000  \n",
       "75%        4.000000        5.000000     3.00000     2.000000     4.0000  \n",
       "max        4.000000        5.000000     3.00000     4.000000     6.0000  \n",
       "\n",
       "[8 rows x 29 columns]"
      ]
     },
     "execution_count": 32,
     "metadata": {},
     "output_type": "execute_result"
    }
   ],
   "source": [
    "credits_cat.describe()"
   ]
  },
  {
   "cell_type": "code",
   "execution_count": 36,
   "metadata": {},
   "outputs": [],
   "source": [
    "#Handling missings - for numerical data frame\n",
    "def Missing_imputation_NUM(x):\n",
    "    x = x.fillna(x.median())\n",
    "    return x\n",
    "\n",
    "credits_num=credits_num.apply(lambda x: Missing_imputation_NUM(x))\n"
   ]
  },
  {
   "cell_type": "code",
   "execution_count": null,
   "metadata": {},
   "outputs": [],
   "source": []
  },
  {
   "cell_type": "code",
   "execution_count": 37,
   "metadata": {},
   "outputs": [],
   "source": [
    "# Creating Data audit Report\n",
    "# Use a general function that returns multiple values\n",
    "def var_summary(x):\n",
    "    return pd.Series([x.count(), x.isnull().sum(), x.sum(), x.mean(), x.median(),  x.std(), x.var(), x.min(), x.dropna().quantile(0.01), x.dropna().quantile(0.05),x.dropna().quantile(0.10),x.dropna().quantile(0.25),x.dropna().quantile(0.50),x.dropna().quantile(0.75), x.dropna().quantile(0.90),x.dropna().quantile(0.95), x.dropna().quantile(0.99),x.max()], \n",
    "                  index=['N', 'NMISS', 'SUM', 'MEAN','MEDIAN', 'STD', 'VAR', 'MIN', 'P1' , 'P5' ,'P10' ,'P25' ,'P50' ,'P75' ,'P90' ,'P95' ,'P99' ,'MAX'])\n",
    "\n",
    "num_summary=credits_num.apply(lambda x: var_summary(x)).T"
   ]
  },
  {
   "cell_type": "code",
   "execution_count": 433,
   "metadata": {},
   "outputs": [
    {
     "data": {
      "text/html": [
       "<div>\n",
       "<style scoped>\n",
       "    .dataframe tbody tr th:only-of-type {\n",
       "        vertical-align: middle;\n",
       "    }\n",
       "\n",
       "    .dataframe tbody tr th {\n",
       "        vertical-align: top;\n",
       "    }\n",
       "\n",
       "    .dataframe thead th {\n",
       "        text-align: right;\n",
       "    }\n",
       "</style>\n",
       "<table border=\"1\" class=\"dataframe\">\n",
       "  <thead>\n",
       "    <tr style=\"text-align: right;\">\n",
       "      <th></th>\n",
       "      <th>N</th>\n",
       "      <th>NMISS</th>\n",
       "      <th>SUM</th>\n",
       "      <th>MEAN</th>\n",
       "      <th>MEDIAN</th>\n",
       "      <th>STD</th>\n",
       "      <th>VAR</th>\n",
       "      <th>MIN</th>\n",
       "      <th>P1</th>\n",
       "      <th>P5</th>\n",
       "      <th>P10</th>\n",
       "      <th>P25</th>\n",
       "      <th>P50</th>\n",
       "      <th>P75</th>\n",
       "      <th>P90</th>\n",
       "      <th>P95</th>\n",
       "      <th>P99</th>\n",
       "      <th>MAX</th>\n",
       "    </tr>\n",
       "  </thead>\n",
       "  <tbody>\n",
       "    <tr>\n",
       "      <th>active</th>\n",
       "      <td>5000.0</td>\n",
       "      <td>0.0</td>\n",
       "      <td>2330.0</td>\n",
       "      <td>0.4660</td>\n",
       "      <td>0.0</td>\n",
       "      <td>0.498893</td>\n",
       "      <td>0.248894</td>\n",
       "      <td>0.0</td>\n",
       "      <td>0.0</td>\n",
       "      <td>0.0</td>\n",
       "      <td>0.0</td>\n",
       "      <td>0.0</td>\n",
       "      <td>0.0</td>\n",
       "      <td>1.0</td>\n",
       "      <td>1.0</td>\n",
       "      <td>1.0</td>\n",
       "      <td>1.0</td>\n",
       "      <td>1.0</td>\n",
       "    </tr>\n",
       "    <tr>\n",
       "      <th>address</th>\n",
       "      <td>5000.0</td>\n",
       "      <td>0.0</td>\n",
       "      <td>82012.0</td>\n",
       "      <td>16.4024</td>\n",
       "      <td>14.0</td>\n",
       "      <td>12.397484</td>\n",
       "      <td>153.697614</td>\n",
       "      <td>0.0</td>\n",
       "      <td>0.0</td>\n",
       "      <td>1.0</td>\n",
       "      <td>2.0</td>\n",
       "      <td>6.0</td>\n",
       "      <td>14.0</td>\n",
       "      <td>25.0</td>\n",
       "      <td>34.0</td>\n",
       "      <td>40.0</td>\n",
       "      <td>48.0</td>\n",
       "      <td>57.0</td>\n",
       "    </tr>\n",
       "    <tr>\n",
       "      <th>age</th>\n",
       "      <td>5000.0</td>\n",
       "      <td>0.0</td>\n",
       "      <td>235128.0</td>\n",
       "      <td>47.0256</td>\n",
       "      <td>47.0</td>\n",
       "      <td>17.770338</td>\n",
       "      <td>315.784902</td>\n",
       "      <td>18.0</td>\n",
       "      <td>18.0</td>\n",
       "      <td>20.0</td>\n",
       "      <td>23.0</td>\n",
       "      <td>31.0</td>\n",
       "      <td>47.0</td>\n",
       "      <td>62.0</td>\n",
       "      <td>72.0</td>\n",
       "      <td>76.0</td>\n",
       "      <td>79.0</td>\n",
       "      <td>79.0</td>\n",
       "    </tr>\n",
       "    <tr>\n",
       "      <th>callcard</th>\n",
       "      <td>5000.0</td>\n",
       "      <td>0.0</td>\n",
       "      <td>3581.0</td>\n",
       "      <td>0.7162</td>\n",
       "      <td>1.0</td>\n",
       "      <td>0.450886</td>\n",
       "      <td>0.203298</td>\n",
       "      <td>0.0</td>\n",
       "      <td>0.0</td>\n",
       "      <td>0.0</td>\n",
       "      <td>0.0</td>\n",
       "      <td>0.0</td>\n",
       "      <td>1.0</td>\n",
       "      <td>1.0</td>\n",
       "      <td>1.0</td>\n",
       "      <td>1.0</td>\n",
       "      <td>1.0</td>\n",
       "      <td>1.0</td>\n",
       "    </tr>\n",
       "    <tr>\n",
       "      <th>callid</th>\n",
       "      <td>5000.0</td>\n",
       "      <td>0.0</td>\n",
       "      <td>2376.0</td>\n",
       "      <td>0.4752</td>\n",
       "      <td>0.0</td>\n",
       "      <td>0.499435</td>\n",
       "      <td>0.249435</td>\n",
       "      <td>0.0</td>\n",
       "      <td>0.0</td>\n",
       "      <td>0.0</td>\n",
       "      <td>0.0</td>\n",
       "      <td>0.0</td>\n",
       "      <td>0.0</td>\n",
       "      <td>1.0</td>\n",
       "      <td>1.0</td>\n",
       "      <td>1.0</td>\n",
       "      <td>1.0</td>\n",
       "      <td>1.0</td>\n",
       "    </tr>\n",
       "  </tbody>\n",
       "</table>\n",
       "</div>"
      ],
      "text/plain": [
       "               N  NMISS       SUM     MEAN  MEDIAN        STD         VAR  \\\n",
       "active    5000.0    0.0    2330.0   0.4660     0.0   0.498893    0.248894   \n",
       "address   5000.0    0.0   82012.0  16.4024    14.0  12.397484  153.697614   \n",
       "age       5000.0    0.0  235128.0  47.0256    47.0  17.770338  315.784902   \n",
       "callcard  5000.0    0.0    3581.0   0.7162     1.0   0.450886    0.203298   \n",
       "callid    5000.0    0.0    2376.0   0.4752     0.0   0.499435    0.249435   \n",
       "\n",
       "           MIN    P1    P5   P10   P25   P50   P75   P90   P95   P99   MAX  \n",
       "active     0.0   0.0   0.0   0.0   0.0   0.0   1.0   1.0   1.0   1.0   1.0  \n",
       "address    0.0   0.0   1.0   2.0   6.0  14.0  25.0  34.0  40.0  48.0  57.0  \n",
       "age       18.0  18.0  20.0  23.0  31.0  47.0  62.0  72.0  76.0  79.0  79.0  \n",
       "callcard   0.0   0.0   0.0   0.0   0.0   1.0   1.0   1.0   1.0   1.0   1.0  \n",
       "callid     0.0   0.0   0.0   0.0   0.0   0.0   1.0   1.0   1.0   1.0   1.0  "
      ]
     },
     "execution_count": 433,
     "metadata": {},
     "output_type": "execute_result"
    }
   ],
   "source": [
    "num_summary.head()"
   ]
  },
  {
   "cell_type": "code",
   "execution_count": null,
   "metadata": {},
   "outputs": [],
   "source": []
  },
  {
   "cell_type": "code",
   "execution_count": 38,
   "metadata": {},
   "outputs": [],
   "source": [
    "# An utility function to create dummy variable\n",
    "def create_dummies( credits_cat, colname ):\n",
    "    col_dummies = pd.get_dummies(credits_cat[colname], prefix=colname)\n",
    "    col_dummies.drop(col_dummies.columns[0], axis=1, inplace=True)\n",
    "    credits_cat = pd.concat([credits_cat, col_dummies], axis=1)\n",
    "    credits_cat.drop( colname, axis = 1, inplace = True )\n",
    "    return credits_cat"
   ]
  },
  {
   "cell_type": "code",
   "execution_count": 40,
   "metadata": {},
   "outputs": [
    {
     "data": {
      "text/html": [
       "<div>\n",
       "<style scoped>\n",
       "    .dataframe tbody tr th:only-of-type {\n",
       "        vertical-align: middle;\n",
       "    }\n",
       "\n",
       "    .dataframe tbody tr th {\n",
       "        vertical-align: top;\n",
       "    }\n",
       "\n",
       "    .dataframe thead th {\n",
       "        text-align: right;\n",
       "    }\n",
       "</style>\n",
       "<table border=\"1\" class=\"dataframe\">\n",
       "  <thead>\n",
       "    <tr style=\"text-align: right;\">\n",
       "      <th></th>\n",
       "      <th>region</th>\n",
       "      <th>townsize</th>\n",
       "      <th>agecat</th>\n",
       "      <th>edcat</th>\n",
       "      <th>empcat</th>\n",
       "      <th>inccat</th>\n",
       "      <th>jobsat</th>\n",
       "      <th>spousedcat</th>\n",
       "      <th>hometype</th>\n",
       "      <th>addresscat</th>\n",
       "      <th>...</th>\n",
       "      <th>cardbenefit</th>\n",
       "      <th>cardtenurecat</th>\n",
       "      <th>card2</th>\n",
       "      <th>card2type</th>\n",
       "      <th>card2benefit</th>\n",
       "      <th>card2tenurecat</th>\n",
       "      <th>bfast</th>\n",
       "      <th>internet</th>\n",
       "      <th>birthmonth</th>\n",
       "      <th>jobcat</th>\n",
       "    </tr>\n",
       "  </thead>\n",
       "  <tbody>\n",
       "    <tr>\n",
       "      <th>0</th>\n",
       "      <td>1</td>\n",
       "      <td>2.0</td>\n",
       "      <td>2</td>\n",
       "      <td>3</td>\n",
       "      <td>1</td>\n",
       "      <td>2</td>\n",
       "      <td>1</td>\n",
       "      <td>-1</td>\n",
       "      <td>2</td>\n",
       "      <td>1</td>\n",
       "      <td>...</td>\n",
       "      <td>1</td>\n",
       "      <td>2</td>\n",
       "      <td>5</td>\n",
       "      <td>3</td>\n",
       "      <td>1</td>\n",
       "      <td>2</td>\n",
       "      <td>3</td>\n",
       "      <td>0</td>\n",
       "      <td>September</td>\n",
       "      <td>1</td>\n",
       "    </tr>\n",
       "    <tr>\n",
       "      <th>1</th>\n",
       "      <td>5</td>\n",
       "      <td>5.0</td>\n",
       "      <td>2</td>\n",
       "      <td>4</td>\n",
       "      <td>1</td>\n",
       "      <td>1</td>\n",
       "      <td>1</td>\n",
       "      <td>-1</td>\n",
       "      <td>3</td>\n",
       "      <td>1</td>\n",
       "      <td>...</td>\n",
       "      <td>1</td>\n",
       "      <td>2</td>\n",
       "      <td>4</td>\n",
       "      <td>1</td>\n",
       "      <td>3</td>\n",
       "      <td>2</td>\n",
       "      <td>1</td>\n",
       "      <td>4</td>\n",
       "      <td>May</td>\n",
       "      <td>2</td>\n",
       "    </tr>\n",
       "    <tr>\n",
       "      <th>2</th>\n",
       "      <td>3</td>\n",
       "      <td>4.0</td>\n",
       "      <td>6</td>\n",
       "      <td>2</td>\n",
       "      <td>5</td>\n",
       "      <td>2</td>\n",
       "      <td>4</td>\n",
       "      <td>2</td>\n",
       "      <td>1</td>\n",
       "      <td>5</td>\n",
       "      <td>...</td>\n",
       "      <td>4</td>\n",
       "      <td>5</td>\n",
       "      <td>4</td>\n",
       "      <td>1</td>\n",
       "      <td>3</td>\n",
       "      <td>5</td>\n",
       "      <td>3</td>\n",
       "      <td>0</td>\n",
       "      <td>June</td>\n",
       "      <td>2</td>\n",
       "    </tr>\n",
       "    <tr>\n",
       "      <th>3</th>\n",
       "      <td>4</td>\n",
       "      <td>3.0</td>\n",
       "      <td>2</td>\n",
       "      <td>3</td>\n",
       "      <td>1</td>\n",
       "      <td>1</td>\n",
       "      <td>2</td>\n",
       "      <td>4</td>\n",
       "      <td>3</td>\n",
       "      <td>2</td>\n",
       "      <td>...</td>\n",
       "      <td>4</td>\n",
       "      <td>2</td>\n",
       "      <td>3</td>\n",
       "      <td>2</td>\n",
       "      <td>4</td>\n",
       "      <td>2</td>\n",
       "      <td>1</td>\n",
       "      <td>2</td>\n",
       "      <td>May</td>\n",
       "      <td>2</td>\n",
       "    </tr>\n",
       "    <tr>\n",
       "      <th>4</th>\n",
       "      <td>2</td>\n",
       "      <td>2.0</td>\n",
       "      <td>3</td>\n",
       "      <td>3</td>\n",
       "      <td>1</td>\n",
       "      <td>1</td>\n",
       "      <td>1</td>\n",
       "      <td>2</td>\n",
       "      <td>2</td>\n",
       "      <td>2</td>\n",
       "      <td>...</td>\n",
       "      <td>1</td>\n",
       "      <td>3</td>\n",
       "      <td>1</td>\n",
       "      <td>3</td>\n",
       "      <td>2</td>\n",
       "      <td>3</td>\n",
       "      <td>3</td>\n",
       "      <td>3</td>\n",
       "      <td>July</td>\n",
       "      <td>2</td>\n",
       "    </tr>\n",
       "  </tbody>\n",
       "</table>\n",
       "<p>5 rows × 30 columns</p>\n",
       "</div>"
      ],
      "text/plain": [
       "   region  townsize  agecat  edcat  empcat  inccat  jobsat  spousedcat  \\\n",
       "0       1       2.0       2      3       1       2       1          -1   \n",
       "1       5       5.0       2      4       1       1       1          -1   \n",
       "2       3       4.0       6      2       5       2       4           2   \n",
       "3       4       3.0       2      3       1       1       2           4   \n",
       "4       2       2.0       3      3       1       1       1           2   \n",
       "\n",
       "   hometype  addresscat  ...  cardbenefit  cardtenurecat  card2  card2type  \\\n",
       "0         2           1  ...            1              2      5          3   \n",
       "1         3           1  ...            1              2      4          1   \n",
       "2         1           5  ...            4              5      4          1   \n",
       "3         3           2  ...            4              2      3          2   \n",
       "4         2           2  ...            1              3      1          3   \n",
       "\n",
       "   card2benefit  card2tenurecat  bfast  internet  birthmonth  jobcat  \n",
       "0             1               2      3         0   September       1  \n",
       "1             3               2      1         4         May       2  \n",
       "2             3               5      3         0        June       2  \n",
       "3             4               2      1         2         May       2  \n",
       "4             2               3      3         3        July       2  \n",
       "\n",
       "[5 rows x 30 columns]"
      ]
     },
     "execution_count": 40,
     "metadata": {},
     "output_type": "execute_result"
    }
   ],
   "source": [
    "credits_cat.head()"
   ]
  },
  {
   "cell_type": "code",
   "execution_count": 41,
   "metadata": {},
   "outputs": [],
   "source": [
    "for c_feature in list(credits_cat.columns):\n",
    "    credits_cat = create_dummies( credits_cat, c_feature )"
   ]
  },
  {
   "cell_type": "code",
   "execution_count": 42,
   "metadata": {},
   "outputs": [
    {
     "data": {
      "text/html": [
       "<div>\n",
       "<style scoped>\n",
       "    .dataframe tbody tr th:only-of-type {\n",
       "        vertical-align: middle;\n",
       "    }\n",
       "\n",
       "    .dataframe tbody tr th {\n",
       "        vertical-align: top;\n",
       "    }\n",
       "\n",
       "    .dataframe thead th {\n",
       "        text-align: right;\n",
       "    }\n",
       "</style>\n",
       "<table border=\"1\" class=\"dataframe\">\n",
       "  <thead>\n",
       "    <tr style=\"text-align: right;\">\n",
       "      <th></th>\n",
       "      <th>region_2</th>\n",
       "      <th>region_3</th>\n",
       "      <th>region_4</th>\n",
       "      <th>region_5</th>\n",
       "      <th>townsize_2.0</th>\n",
       "      <th>townsize_3.0</th>\n",
       "      <th>townsize_4.0</th>\n",
       "      <th>townsize_5.0</th>\n",
       "      <th>agecat_3</th>\n",
       "      <th>agecat_4</th>\n",
       "      <th>...</th>\n",
       "      <th>birthmonth_March</th>\n",
       "      <th>birthmonth_May</th>\n",
       "      <th>birthmonth_November</th>\n",
       "      <th>birthmonth_October</th>\n",
       "      <th>birthmonth_September</th>\n",
       "      <th>jobcat_2</th>\n",
       "      <th>jobcat_3</th>\n",
       "      <th>jobcat_4</th>\n",
       "      <th>jobcat_5</th>\n",
       "      <th>jobcat_6</th>\n",
       "    </tr>\n",
       "  </thead>\n",
       "  <tbody>\n",
       "    <tr>\n",
       "      <th>0</th>\n",
       "      <td>0</td>\n",
       "      <td>0</td>\n",
       "      <td>0</td>\n",
       "      <td>0</td>\n",
       "      <td>1</td>\n",
       "      <td>0</td>\n",
       "      <td>0</td>\n",
       "      <td>0</td>\n",
       "      <td>0</td>\n",
       "      <td>0</td>\n",
       "      <td>...</td>\n",
       "      <td>0</td>\n",
       "      <td>0</td>\n",
       "      <td>0</td>\n",
       "      <td>0</td>\n",
       "      <td>1</td>\n",
       "      <td>0</td>\n",
       "      <td>0</td>\n",
       "      <td>0</td>\n",
       "      <td>0</td>\n",
       "      <td>0</td>\n",
       "    </tr>\n",
       "    <tr>\n",
       "      <th>1</th>\n",
       "      <td>0</td>\n",
       "      <td>0</td>\n",
       "      <td>0</td>\n",
       "      <td>1</td>\n",
       "      <td>0</td>\n",
       "      <td>0</td>\n",
       "      <td>0</td>\n",
       "      <td>1</td>\n",
       "      <td>0</td>\n",
       "      <td>0</td>\n",
       "      <td>...</td>\n",
       "      <td>0</td>\n",
       "      <td>1</td>\n",
       "      <td>0</td>\n",
       "      <td>0</td>\n",
       "      <td>0</td>\n",
       "      <td>1</td>\n",
       "      <td>0</td>\n",
       "      <td>0</td>\n",
       "      <td>0</td>\n",
       "      <td>0</td>\n",
       "    </tr>\n",
       "    <tr>\n",
       "      <th>2</th>\n",
       "      <td>0</td>\n",
       "      <td>1</td>\n",
       "      <td>0</td>\n",
       "      <td>0</td>\n",
       "      <td>0</td>\n",
       "      <td>0</td>\n",
       "      <td>1</td>\n",
       "      <td>0</td>\n",
       "      <td>0</td>\n",
       "      <td>0</td>\n",
       "      <td>...</td>\n",
       "      <td>0</td>\n",
       "      <td>0</td>\n",
       "      <td>0</td>\n",
       "      <td>0</td>\n",
       "      <td>0</td>\n",
       "      <td>1</td>\n",
       "      <td>0</td>\n",
       "      <td>0</td>\n",
       "      <td>0</td>\n",
       "      <td>0</td>\n",
       "    </tr>\n",
       "    <tr>\n",
       "      <th>3</th>\n",
       "      <td>0</td>\n",
       "      <td>0</td>\n",
       "      <td>1</td>\n",
       "      <td>0</td>\n",
       "      <td>0</td>\n",
       "      <td>1</td>\n",
       "      <td>0</td>\n",
       "      <td>0</td>\n",
       "      <td>0</td>\n",
       "      <td>0</td>\n",
       "      <td>...</td>\n",
       "      <td>0</td>\n",
       "      <td>1</td>\n",
       "      <td>0</td>\n",
       "      <td>0</td>\n",
       "      <td>0</td>\n",
       "      <td>1</td>\n",
       "      <td>0</td>\n",
       "      <td>0</td>\n",
       "      <td>0</td>\n",
       "      <td>0</td>\n",
       "    </tr>\n",
       "    <tr>\n",
       "      <th>4</th>\n",
       "      <td>1</td>\n",
       "      <td>0</td>\n",
       "      <td>0</td>\n",
       "      <td>0</td>\n",
       "      <td>1</td>\n",
       "      <td>0</td>\n",
       "      <td>0</td>\n",
       "      <td>0</td>\n",
       "      <td>1</td>\n",
       "      <td>0</td>\n",
       "      <td>...</td>\n",
       "      <td>0</td>\n",
       "      <td>0</td>\n",
       "      <td>0</td>\n",
       "      <td>0</td>\n",
       "      <td>0</td>\n",
       "      <td>1</td>\n",
       "      <td>0</td>\n",
       "      <td>0</td>\n",
       "      <td>0</td>\n",
       "      <td>0</td>\n",
       "    </tr>\n",
       "  </tbody>\n",
       "</table>\n",
       "<p>5 rows × 121 columns</p>\n",
       "</div>"
      ],
      "text/plain": [
       "   region_2  region_3  region_4  region_5  townsize_2.0  townsize_3.0  \\\n",
       "0         0         0         0         0             1             0   \n",
       "1         0         0         0         1             0             0   \n",
       "2         0         1         0         0             0             0   \n",
       "3         0         0         1         0             0             1   \n",
       "4         1         0         0         0             1             0   \n",
       "\n",
       "   townsize_4.0  townsize_5.0  agecat_3  agecat_4  ...  birthmonth_March  \\\n",
       "0             0             0         0         0  ...                 0   \n",
       "1             0             1         0         0  ...                 0   \n",
       "2             1             0         0         0  ...                 0   \n",
       "3             0             0         0         0  ...                 0   \n",
       "4             0             0         1         0  ...                 0   \n",
       "\n",
       "   birthmonth_May  birthmonth_November  birthmonth_October  \\\n",
       "0               0                    0                   0   \n",
       "1               1                    0                   0   \n",
       "2               0                    0                   0   \n",
       "3               1                    0                   0   \n",
       "4               0                    0                   0   \n",
       "\n",
       "   birthmonth_September  jobcat_2  jobcat_3  jobcat_4  jobcat_5  jobcat_6  \n",
       "0                     1         0         0         0         0         0  \n",
       "1                     0         1         0         0         0         0  \n",
       "2                     0         1         0         0         0         0  \n",
       "3                     0         1         0         0         0         0  \n",
       "4                     0         1         0         0         0         0  \n",
       "\n",
       "[5 rows x 121 columns]"
      ]
     },
     "execution_count": 42,
     "metadata": {},
     "output_type": "execute_result"
    }
   ],
   "source": [
    "credits_cat.head()"
   ]
  },
  {
   "cell_type": "code",
   "execution_count": null,
   "metadata": {},
   "outputs": [],
   "source": []
  },
  {
   "cell_type": "markdown",
   "metadata": {},
   "source": [
    "# Merging Categorical and Numerical columns to form a clean Data Set"
   ]
  },
  {
   "cell_type": "code",
   "execution_count": 43,
   "metadata": {},
   "outputs": [],
   "source": [
    "Credit = pd.concat([credits_cat,credits_num],axis =1)"
   ]
  },
  {
   "cell_type": "code",
   "execution_count": 44,
   "metadata": {},
   "outputs": [
    {
     "data": {
      "text/html": [
       "<div>\n",
       "<style scoped>\n",
       "    .dataframe tbody tr th:only-of-type {\n",
       "        vertical-align: middle;\n",
       "    }\n",
       "\n",
       "    .dataframe tbody tr th {\n",
       "        vertical-align: top;\n",
       "    }\n",
       "\n",
       "    .dataframe thead th {\n",
       "        text-align: right;\n",
       "    }\n",
       "</style>\n",
       "<table border=\"1\" class=\"dataframe\">\n",
       "  <thead>\n",
       "    <tr style=\"text-align: right;\">\n",
       "      <th></th>\n",
       "      <th>region_2</th>\n",
       "      <th>region_3</th>\n",
       "      <th>region_4</th>\n",
       "      <th>region_5</th>\n",
       "      <th>townsize_2.0</th>\n",
       "      <th>townsize_3.0</th>\n",
       "      <th>townsize_4.0</th>\n",
       "      <th>townsize_5.0</th>\n",
       "      <th>agecat_3</th>\n",
       "      <th>agecat_4</th>\n",
       "      <th>...</th>\n",
       "      <th>tenure</th>\n",
       "      <th>tollfree</th>\n",
       "      <th>tollmon</th>\n",
       "      <th>tollten</th>\n",
       "      <th>union</th>\n",
       "      <th>voice</th>\n",
       "      <th>vote</th>\n",
       "      <th>wireless</th>\n",
       "      <th>wiremon</th>\n",
       "      <th>wireten</th>\n",
       "    </tr>\n",
       "  </thead>\n",
       "  <tbody>\n",
       "    <tr>\n",
       "      <th>0</th>\n",
       "      <td>0</td>\n",
       "      <td>0</td>\n",
       "      <td>0</td>\n",
       "      <td>0</td>\n",
       "      <td>1</td>\n",
       "      <td>0</td>\n",
       "      <td>0</td>\n",
       "      <td>0</td>\n",
       "      <td>0</td>\n",
       "      <td>0</td>\n",
       "      <td>...</td>\n",
       "      <td>5</td>\n",
       "      <td>1</td>\n",
       "      <td>29.0</td>\n",
       "      <td>161.05</td>\n",
       "      <td>1</td>\n",
       "      <td>1</td>\n",
       "      <td>1</td>\n",
       "      <td>0</td>\n",
       "      <td>0.00</td>\n",
       "      <td>0.00</td>\n",
       "    </tr>\n",
       "    <tr>\n",
       "      <th>1</th>\n",
       "      <td>0</td>\n",
       "      <td>0</td>\n",
       "      <td>0</td>\n",
       "      <td>1</td>\n",
       "      <td>0</td>\n",
       "      <td>0</td>\n",
       "      <td>0</td>\n",
       "      <td>1</td>\n",
       "      <td>0</td>\n",
       "      <td>0</td>\n",
       "      <td>...</td>\n",
       "      <td>39</td>\n",
       "      <td>0</td>\n",
       "      <td>0.0</td>\n",
       "      <td>0.00</td>\n",
       "      <td>0</td>\n",
       "      <td>1</td>\n",
       "      <td>0</td>\n",
       "      <td>1</td>\n",
       "      <td>45.65</td>\n",
       "      <td>1683.55</td>\n",
       "    </tr>\n",
       "    <tr>\n",
       "      <th>2</th>\n",
       "      <td>0</td>\n",
       "      <td>1</td>\n",
       "      <td>0</td>\n",
       "      <td>0</td>\n",
       "      <td>0</td>\n",
       "      <td>0</td>\n",
       "      <td>1</td>\n",
       "      <td>0</td>\n",
       "      <td>0</td>\n",
       "      <td>0</td>\n",
       "      <td>...</td>\n",
       "      <td>65</td>\n",
       "      <td>0</td>\n",
       "      <td>0.0</td>\n",
       "      <td>0.00</td>\n",
       "      <td>0</td>\n",
       "      <td>0</td>\n",
       "      <td>0</td>\n",
       "      <td>0</td>\n",
       "      <td>0.00</td>\n",
       "      <td>0.00</td>\n",
       "    </tr>\n",
       "    <tr>\n",
       "      <th>3</th>\n",
       "      <td>0</td>\n",
       "      <td>0</td>\n",
       "      <td>1</td>\n",
       "      <td>0</td>\n",
       "      <td>0</td>\n",
       "      <td>1</td>\n",
       "      <td>0</td>\n",
       "      <td>0</td>\n",
       "      <td>0</td>\n",
       "      <td>0</td>\n",
       "      <td>...</td>\n",
       "      <td>36</td>\n",
       "      <td>0</td>\n",
       "      <td>0.0</td>\n",
       "      <td>0.00</td>\n",
       "      <td>0</td>\n",
       "      <td>0</td>\n",
       "      <td>0</td>\n",
       "      <td>0</td>\n",
       "      <td>0.00</td>\n",
       "      <td>0.00</td>\n",
       "    </tr>\n",
       "    <tr>\n",
       "      <th>4</th>\n",
       "      <td>1</td>\n",
       "      <td>0</td>\n",
       "      <td>0</td>\n",
       "      <td>0</td>\n",
       "      <td>1</td>\n",
       "      <td>0</td>\n",
       "      <td>0</td>\n",
       "      <td>0</td>\n",
       "      <td>1</td>\n",
       "      <td>0</td>\n",
       "      <td>...</td>\n",
       "      <td>21</td>\n",
       "      <td>1</td>\n",
       "      <td>16.5</td>\n",
       "      <td>387.70</td>\n",
       "      <td>0</td>\n",
       "      <td>1</td>\n",
       "      <td>0</td>\n",
       "      <td>1</td>\n",
       "      <td>19.05</td>\n",
       "      <td>410.80</td>\n",
       "    </tr>\n",
       "  </tbody>\n",
       "</table>\n",
       "<p>5 rows × 214 columns</p>\n",
       "</div>"
      ],
      "text/plain": [
       "   region_2  region_3  region_4  region_5  townsize_2.0  townsize_3.0  \\\n",
       "0         0         0         0         0             1             0   \n",
       "1         0         0         0         1             0             0   \n",
       "2         0         1         0         0             0             0   \n",
       "3         0         0         1         0             0             1   \n",
       "4         1         0         0         0             1             0   \n",
       "\n",
       "   townsize_4.0  townsize_5.0  agecat_3  agecat_4  ...  tenure  tollfree  \\\n",
       "0             0             0         0         0  ...       5         1   \n",
       "1             0             1         0         0  ...      39         0   \n",
       "2             1             0         0         0  ...      65         0   \n",
       "3             0             0         0         0  ...      36         0   \n",
       "4             0             0         1         0  ...      21         1   \n",
       "\n",
       "   tollmon  tollten  union  voice  vote  wireless  wiremon  wireten  \n",
       "0     29.0   161.05      1      1     1         0     0.00     0.00  \n",
       "1      0.0     0.00      0      1     0         1    45.65  1683.55  \n",
       "2      0.0     0.00      0      0     0         0     0.00     0.00  \n",
       "3      0.0     0.00      0      0     0         0     0.00     0.00  \n",
       "4     16.5   387.70      0      1     0         1    19.05   410.80  \n",
       "\n",
       "[5 rows x 214 columns]"
      ]
     },
     "execution_count": 44,
     "metadata": {},
     "output_type": "execute_result"
    }
   ],
   "source": [
    "Credit.head()"
   ]
  },
  {
   "cell_type": "code",
   "execution_count": null,
   "metadata": {},
   "outputs": [],
   "source": []
  },
  {
   "cell_type": "markdown",
   "metadata": {},
   "source": [
    "# Model building using random forest to select best variables"
   ]
  },
  {
   "cell_type": "code",
   "execution_count": null,
   "metadata": {},
   "outputs": [],
   "source": []
  },
  {
   "cell_type": "code",
   "execution_count": 45,
   "metadata": {},
   "outputs": [],
   "source": [
    "#Checking variable importance using Random Forest Regressor"
   ]
  },
  {
   "cell_type": "code",
   "execution_count": 46,
   "metadata": {},
   "outputs": [],
   "source": [
    "feature_columns = Credit.columns.difference(['ln_Total_Spend'])"
   ]
  },
  {
   "cell_type": "code",
   "execution_count": 47,
   "metadata": {},
   "outputs": [],
   "source": [
    "train_X, test_X, train_y, test_y = train_test_split( Credit[feature_columns],\n",
    "                                                  Credit['ln_Total_Spend'],\n",
    "                                                  test_size = 0.3,\n",
    "                                                  random_state = 42 )"
   ]
  },
  {
   "cell_type": "code",
   "execution_count": 48,
   "metadata": {},
   "outputs": [
    {
     "data": {
      "text/plain": [
       "(3500, 213)"
      ]
     },
     "execution_count": 48,
     "metadata": {},
     "output_type": "execute_result"
    }
   ],
   "source": [
    "train_X.shape"
   ]
  },
  {
   "cell_type": "code",
   "execution_count": 49,
   "metadata": {},
   "outputs": [
    {
     "data": {
      "text/plain": [
       "(1500, 213)"
      ]
     },
     "execution_count": 49,
     "metadata": {},
     "output_type": "execute_result"
    }
   ],
   "source": [
    "test_X.shape"
   ]
  },
  {
   "cell_type": "code",
   "execution_count": 50,
   "metadata": {},
   "outputs": [],
   "source": [
    "from sklearn.ensemble import RandomForestRegressor"
   ]
  },
  {
   "cell_type": "code",
   "execution_count": 51,
   "metadata": {},
   "outputs": [
    {
     "data": {
      "text/plain": [
       "RandomForestRegressor(bootstrap=True, criterion='mse', max_depth=None,\n",
       "           max_features='auto', max_leaf_nodes=None,\n",
       "           min_impurity_decrease=0.0, min_impurity_split=None,\n",
       "           min_samples_leaf=1, min_samples_split=2,\n",
       "           min_weight_fraction_leaf=0.0, n_estimators=100, n_jobs=None,\n",
       "           oob_score=True, random_state=None, verbose=0, warm_start=False)"
      ]
     },
     "execution_count": 51,
     "metadata": {},
     "output_type": "execute_result"
    }
   ],
   "source": [
    "\n",
    "radm_clf = RandomForestRegressor(oob_score=True,n_estimators=100 )\n",
    "radm_clf.fit( train_X, train_y )"
   ]
  },
  {
   "cell_type": "code",
   "execution_count": 52,
   "metadata": {},
   "outputs": [],
   "source": [
    "indices = np.argsort(radm_clf.feature_importances_)[::-1]"
   ]
  },
  {
   "cell_type": "code",
   "execution_count": 53,
   "metadata": {},
   "outputs": [
    {
     "data": {
      "text/plain": [
       "<matplotlib.axes._subplots.AxesSubplot at 0xe06147fac8>"
      ]
     },
     "execution_count": 53,
     "metadata": {},
     "output_type": "execute_result"
    },
    {
     "data": {
      "image/png": "[encoded data removed]",
      "text/plain": [
       "<Figure size 432x288 with 1 Axes>"
      ]
     },
     "metadata": {
      "needs_background": "light"
     },
     "output_type": "display_data"
    }
   ],
   "source": [
    "#getting features and there importance , to slect top 30 features\n",
    "indices = np.argsort(radm_clf.feature_importances_)[::-1]\n",
    "feature_rank = pd.DataFrame( columns = ['rank', 'feature', 'importance'] )\n",
    "for f in range(train_X.shape[1]):\n",
    "  feature_rank.loc[f] = [f+1,\n",
    "                         train_X.columns[indices[f]],\n",
    "                         radm_clf.feature_importances_[indices[f]]]\n",
    "sns.barplot( y = 'feature', x = 'importance', data = feature_rank )"
   ]
  },
  {
   "cell_type": "code",
   "execution_count": 465,
   "metadata": {},
   "outputs": [],
   "source": [
    "#Exporting Data into Excel so as to select top 30 important features \n",
    "pd.DataFrame(feature_rank).to_csv('abc.csv')"
   ]
  },
  {
   "cell_type": "code",
   "execution_count": 55,
   "metadata": {},
   "outputs": [],
   "source": [
    "#List of top 30 important features\n",
    "columns_new = ['lninc',\n",
    "'carvalue',\n",
    "'card_3',\n",
    "'debtinc',\n",
    "'commutetime',\n",
    "'hourstv',\n",
    "'card_2',\n",
    "'card_4',\n",
    "'address',\n",
    "'creddebt',\n",
    "'ed',\n",
    "'age',\n",
    "'employ',\n",
    "'lncardmon',\n",
    "'lnothdebt',\n",
    "'pets',\n",
    "'tollmon',\n",
    "'tollten',\n",
    "'lncardten',\n",
    "'spoused',\n",
    "'lnlongmon',\n",
    "'cardmon',\n",
    "'tenure',\n",
    "'cardtenure',\n",
    "'card2tenure',\n",
    "'equipten',\n",
    "'lnlongten',\n",
    "'card_5',\n",
    "'equipmon',\n",
    "'commute']\n"
   ]
  },
  {
   "cell_type": "code",
   "execution_count": 56,
   "metadata": {},
   "outputs": [],
   "source": [
    "from statsmodels.stats.outliers_influence import variance_inflation_factor\n",
    "from patsy import dmatrices\n",
    "features = \"+\".join(Credit.columns.difference([\"ln_Total_Spend\"]))\n",
    "y,X = dmatrices('ln_Total_Spend~lninc +carvalue\t +card_3\t +debtinc\t +commutetime\t +hourstv\t +card_2\t +card_4\t +address\t +creddebt\t +ed\t +age\t +employ\t +lncardmon\t +lnothdebt\t +pets\t +tollmon\t +tollten\t +lncardten\t +spoused\t +lnlongmon\t +cardmon\t +tenure\t +cardtenure\t +card2tenure\t +equipten\t +lnlongten\t +card_5\t +equipmon\t +commute'\n",
    ",Credit,return_type='dataframe')\n"
   ]
  },
  {
   "cell_type": "code",
   "execution_count": 57,
   "metadata": {},
   "outputs": [],
   "source": [
    "# For each X, calculate VIF and save in dataframe\n",
    "vif = pd.DataFrame()\n",
    "vif[\"VIF Factor\"] = [variance_inflation_factor(X.values, i) for i in range(X.shape[1])]\n",
    "vif[\"features\"] = X.columns"
   ]
  },
  {
   "cell_type": "code",
   "execution_count": 58,
   "metadata": {},
   "outputs": [
    {
     "data": {
      "text/html": [
       "<div>\n",
       "<style scoped>\n",
       "    .dataframe tbody tr th:only-of-type {\n",
       "        vertical-align: middle;\n",
       "    }\n",
       "\n",
       "    .dataframe tbody tr th {\n",
       "        vertical-align: top;\n",
       "    }\n",
       "\n",
       "    .dataframe thead th {\n",
       "        text-align: right;\n",
       "    }\n",
       "</style>\n",
       "<table border=\"1\" class=\"dataframe\">\n",
       "  <thead>\n",
       "    <tr style=\"text-align: right;\">\n",
       "      <th></th>\n",
       "      <th>VIF Factor</th>\n",
       "      <th>features</th>\n",
       "    </tr>\n",
       "  </thead>\n",
       "  <tbody>\n",
       "    <tr>\n",
       "      <th>0</th>\n",
       "      <td>314.5</td>\n",
       "      <td>Intercept</td>\n",
       "    </tr>\n",
       "    <tr>\n",
       "      <th>1</th>\n",
       "      <td>6.2</td>\n",
       "      <td>lninc</td>\n",
       "    </tr>\n",
       "    <tr>\n",
       "      <th>2</th>\n",
       "      <td>3.0</td>\n",
       "      <td>carvalue</td>\n",
       "    </tr>\n",
       "    <tr>\n",
       "      <th>3</th>\n",
       "      <td>1.7</td>\n",
       "      <td>card_3</td>\n",
       "    </tr>\n",
       "    <tr>\n",
       "      <th>4</th>\n",
       "      <td>3.8</td>\n",
       "      <td>debtinc</td>\n",
       "    </tr>\n",
       "    <tr>\n",
       "      <th>5</th>\n",
       "      <td>1.0</td>\n",
       "      <td>commutetime</td>\n",
       "    </tr>\n",
       "    <tr>\n",
       "      <th>6</th>\n",
       "      <td>1.0</td>\n",
       "      <td>hourstv</td>\n",
       "    </tr>\n",
       "    <tr>\n",
       "      <th>7</th>\n",
       "      <td>1.8</td>\n",
       "      <td>card_2</td>\n",
       "    </tr>\n",
       "    <tr>\n",
       "      <th>8</th>\n",
       "      <td>1.7</td>\n",
       "      <td>card_4</td>\n",
       "    </tr>\n",
       "    <tr>\n",
       "      <th>9</th>\n",
       "      <td>3.7</td>\n",
       "      <td>address</td>\n",
       "    </tr>\n",
       "    <tr>\n",
       "      <th>10</th>\n",
       "      <td>1.7</td>\n",
       "      <td>creddebt</td>\n",
       "    </tr>\n",
       "    <tr>\n",
       "      <th>11</th>\n",
       "      <td>1.5</td>\n",
       "      <td>ed</td>\n",
       "    </tr>\n",
       "    <tr>\n",
       "      <th>12</th>\n",
       "      <td>4.4</td>\n",
       "      <td>age</td>\n",
       "    </tr>\n",
       "    <tr>\n",
       "      <th>13</th>\n",
       "      <td>2.6</td>\n",
       "      <td>employ</td>\n",
       "    </tr>\n",
       "    <tr>\n",
       "      <th>14</th>\n",
       "      <td>5.4</td>\n",
       "      <td>lncardmon</td>\n",
       "    </tr>\n",
       "    <tr>\n",
       "      <th>15</th>\n",
       "      <td>5.8</td>\n",
       "      <td>lnothdebt</td>\n",
       "    </tr>\n",
       "    <tr>\n",
       "      <th>16</th>\n",
       "      <td>1.0</td>\n",
       "      <td>pets</td>\n",
       "    </tr>\n",
       "    <tr>\n",
       "      <th>17</th>\n",
       "      <td>7.6</td>\n",
       "      <td>tollmon</td>\n",
       "    </tr>\n",
       "    <tr>\n",
       "      <th>18</th>\n",
       "      <td>8.6</td>\n",
       "      <td>tollten</td>\n",
       "    </tr>\n",
       "    <tr>\n",
       "      <th>19</th>\n",
       "      <td>4.8</td>\n",
       "      <td>lncardten</td>\n",
       "    </tr>\n",
       "    <tr>\n",
       "      <th>20</th>\n",
       "      <td>1.1</td>\n",
       "      <td>spoused</td>\n",
       "    </tr>\n",
       "    <tr>\n",
       "      <th>21</th>\n",
       "      <td>8.5</td>\n",
       "      <td>lnlongmon</td>\n",
       "    </tr>\n",
       "    <tr>\n",
       "      <th>22</th>\n",
       "      <td>3.9</td>\n",
       "      <td>cardmon</td>\n",
       "    </tr>\n",
       "    <tr>\n",
       "      <th>23</th>\n",
       "      <td>18.5</td>\n",
       "      <td>tenure</td>\n",
       "    </tr>\n",
       "    <tr>\n",
       "      <th>24</th>\n",
       "      <td>17.2</td>\n",
       "      <td>cardtenure</td>\n",
       "    </tr>\n",
       "    <tr>\n",
       "      <th>25</th>\n",
       "      <td>18.3</td>\n",
       "      <td>card2tenure</td>\n",
       "    </tr>\n",
       "    <tr>\n",
       "      <th>26</th>\n",
       "      <td>4.7</td>\n",
       "      <td>equipten</td>\n",
       "    </tr>\n",
       "    <tr>\n",
       "      <th>27</th>\n",
       "      <td>18.6</td>\n",
       "      <td>lnlongten</td>\n",
       "    </tr>\n",
       "    <tr>\n",
       "      <th>28</th>\n",
       "      <td>1.2</td>\n",
       "      <td>card_5</td>\n",
       "    </tr>\n",
       "    <tr>\n",
       "      <th>29</th>\n",
       "      <td>4.7</td>\n",
       "      <td>equipmon</td>\n",
       "    </tr>\n",
       "    <tr>\n",
       "      <th>30</th>\n",
       "      <td>1.0</td>\n",
       "      <td>commute</td>\n",
       "    </tr>\n",
       "  </tbody>\n",
       "</table>\n",
       "</div>"
      ],
      "text/plain": [
       "    VIF Factor     features\n",
       "0        314.5    Intercept\n",
       "1          6.2        lninc\n",
       "2          3.0     carvalue\n",
       "3          1.7       card_3\n",
       "4          3.8      debtinc\n",
       "5          1.0  commutetime\n",
       "6          1.0      hourstv\n",
       "7          1.8       card_2\n",
       "8          1.7       card_4\n",
       "9          3.7      address\n",
       "10         1.7     creddebt\n",
       "11         1.5           ed\n",
       "12         4.4          age\n",
       "13         2.6       employ\n",
       "14         5.4    lncardmon\n",
       "15         5.8    lnothdebt\n",
       "16         1.0         pets\n",
       "17         7.6      tollmon\n",
       "18         8.6      tollten\n",
       "19         4.8    lncardten\n",
       "20         1.1      spoused\n",
       "21         8.5    lnlongmon\n",
       "22         3.9      cardmon\n",
       "23        18.5       tenure\n",
       "24        17.2   cardtenure\n",
       "25        18.3  card2tenure\n",
       "26         4.7     equipten\n",
       "27        18.6    lnlongten\n",
       "28         1.2       card_5\n",
       "29         4.7     equipmon\n",
       "30         1.0      commute"
      ]
     },
     "execution_count": 58,
     "metadata": {},
     "output_type": "execute_result"
    }
   ],
   "source": [
    "vif.round(1)"
   ]
  },
  {
   "cell_type": "code",
   "execution_count": 88,
   "metadata": {},
   "outputs": [],
   "source": [
    "# features list after dropping features which have VIF more than 10\n",
    "New_credit =   Credit[['lninc','carvalue','card_3',\n",
    "'debtinc',\n",
    "'commutetime',\n",
    "'hourstv',\n",
    "'card_2',\n",
    "'card_4',\n",
    "'address',\n",
    "'creddebt',\n",
    "'ed',\n",
    "'age',\n",
    "'employ',\n",
    "'lncardmon',\n",
    "'lnothdebt',\n",
    "'pets',\n",
    "'tollmon',\n",
    "'tollten',\n",
    "'lncardten',\n",
    "'spoused',\n",
    "'lnlongmon',\n",
    "'cardmon',\n",
    "'equipten',\n",
    "'card_5',\n",
    "'equipmon',\n",
    "'commute','ln_Total_Spend']]"
   ]
  },
  {
   "cell_type": "markdown",
   "metadata": {},
   "source": [
    "## Re-Building the model with top best features"
   ]
  },
  {
   "cell_type": "code",
   "execution_count": 89,
   "metadata": {},
   "outputs": [],
   "source": [
    "feature_columns = New_credit.columns.difference(['ln_Total_Spend'])"
   ]
  },
  {
   "cell_type": "code",
   "execution_count": 90,
   "metadata": {},
   "outputs": [],
   "source": [
    "train_X, test_X, train_y, test_y = train_test_split( New_credit[feature_columns],\n",
    "                                                  New_credit['ln_Total_Spend'],\n",
    "                                                  test_size = 0.3,\n",
    "                                                  random_state = 42 )"
   ]
  },
  {
   "cell_type": "code",
   "execution_count": 91,
   "metadata": {},
   "outputs": [
    {
     "data": {
      "text/plain": [
       "Index(['address', 'age', 'card_2', 'card_3', 'card_4', 'card_5', 'cardmon',\n",
       "       'carvalue', 'commute', 'commutetime', 'creddebt', 'debtinc', 'ed',\n",
       "       'employ', 'equipmon', 'equipten', 'hourstv', 'lncardmon', 'lncardten',\n",
       "       'lninc', 'lnlongmon', 'lnothdebt', 'pets', 'spoused', 'tollmon',\n",
       "       'tollten'],\n",
       "      dtype='object')"
      ]
     },
     "execution_count": 91,
     "metadata": {},
     "output_type": "execute_result"
    }
   ],
   "source": [
    "train_X.columns"
   ]
  },
  {
   "cell_type": "code",
   "execution_count": 92,
   "metadata": {},
   "outputs": [
    {
     "data": {
      "text/plain": [
       "(3500, 26)"
      ]
     },
     "execution_count": 92,
     "metadata": {},
     "output_type": "execute_result"
    }
   ],
   "source": [
    "train_X.shape"
   ]
  },
  {
   "cell_type": "code",
   "execution_count": 93,
   "metadata": {},
   "outputs": [
    {
     "data": {
      "text/plain": [
       "(3500,)"
      ]
     },
     "execution_count": 93,
     "metadata": {},
     "output_type": "execute_result"
    }
   ],
   "source": [
    "train_y.shape"
   ]
  },
  {
   "cell_type": "code",
   "execution_count": 94,
   "metadata": {},
   "outputs": [],
   "source": [
    "import statsmodels.api as sm\n",
    "train_X = sm.add_constant(train_X)\n",
    "lm=sm.OLS(train_y,train_X).fit()  "
   ]
  },
  {
   "cell_type": "code",
   "execution_count": 95,
   "metadata": {},
   "outputs": [
    {
     "name": "stdout",
     "output_type": "stream",
     "text": [
      "                            OLS Regression Results                            \n",
      "==============================================================================\n",
      "Dep. Variable:         ln_Total_Spend   R-squared:                       0.279\n",
      "Model:                            OLS   Adj. R-squared:                  0.274\n",
      "Method:                 Least Squares   F-statistic:                     51.72\n",
      "Date:                Sat, 13 Jul 2019   Prob (F-statistic):          5.45e-224\n",
      "Time:                        23:55:37   Log-Likelihood:                -3008.5\n",
      "No. Observations:                3500   AIC:                             6071.\n",
      "Df Residuals:                    3473   BIC:                             6237.\n",
      "Df Model:                          26                                         \n",
      "Covariance Type:            nonrobust                                         \n",
      "===============================================================================\n",
      "                  coef    std err          t      P>|t|      [0.025      0.975]\n",
      "-------------------------------------------------------------------------------\n",
      "const           5.1391      0.170     30.204      0.000       4.806       5.473\n",
      "address        -0.0009      0.001     -0.580      0.562      -0.004       0.002\n",
      "age            -0.0005      0.001     -0.440      0.660      -0.003       0.002\n",
      "card_2         -0.5418      0.030    -18.235      0.000      -0.600      -0.484\n",
      "card_3         -0.5491      0.030    -18.187      0.000      -0.608      -0.490\n",
      "card_4         -0.5914      0.029    -20.505      0.000      -0.648      -0.535\n",
      "card_5         -0.4873      0.052     -9.444      0.000      -0.588      -0.386\n",
      "cardmon        -0.0004      0.001     -0.373      0.709      -0.003       0.002\n",
      "carvalue       -0.0005      0.001     -0.628      0.530      -0.002       0.001\n",
      "commute        -0.0003      0.004     -0.077      0.938      -0.007       0.007\n",
      "commutetime     0.0012      0.002      0.726      0.468      -0.002       0.004\n",
      "creddebt       -0.0025      0.004     -0.559      0.576      -0.011       0.006\n",
      "debtinc         0.0006      0.003      0.199      0.842      -0.005       0.007\n",
      "ed             -0.0030      0.004     -0.836      0.403      -0.010       0.004\n",
      "employ         -0.0016      0.002     -1.029      0.304      -0.005       0.001\n",
      "equipmon       -0.0005      0.001     -0.507      0.612      -0.003       0.002\n",
      "equipten     1.706e-05   2.24e-05      0.761      0.447   -2.69e-05     6.1e-05\n",
      "hourstv         0.0007      0.002      0.381      0.703      -0.003       0.004\n",
      "lncardmon       0.0086      0.040      0.212      0.832      -0.071       0.088\n",
      "lncardten      -0.0153      0.018     -0.858      0.391      -0.050       0.020\n",
      "lninc           0.3957      0.033     12.089      0.000       0.332       0.460\n",
      "lnlongmon       0.0110      0.020      0.561      0.575      -0.028       0.050\n",
      "lnothdebt      -0.0092      0.021     -0.438      0.661      -0.050       0.032\n",
      "pets           -0.0015      0.003     -0.513      0.608      -0.007       0.004\n",
      "spoused        -0.0016      0.001     -1.208      0.227      -0.004       0.001\n",
      "tollmon        -0.0035      0.002     -2.122      0.034      -0.007      -0.000\n",
      "tollten      5.578e-05   2.94e-05      1.900      0.058   -1.78e-06       0.000\n",
      "==============================================================================\n",
      "Omnibus:                      369.229   Durbin-Watson:                   2.037\n",
      "Prob(Omnibus):                  0.000   Jarque-Bera (JB):              827.081\n",
      "Skew:                          -0.641   Prob(JB):                    2.52e-180\n",
      "Kurtosis:                       5.006   Cond. No.                     2.29e+04\n",
      "==============================================================================\n",
      "\n",
      "Warnings:\n",
      "[1] Standard Errors assume that the covariance matrix of the errors is correctly specified.\n",
      "[2] The condition number is large, 2.29e+04. This might indicate that there are\n",
      "strong multicollinearity or other numerical problems.\n"
     ]
    }
   ],
   "source": [
    "print(lm.summary())"
   ]
  },
  {
   "cell_type": "code",
   "execution_count": 96,
   "metadata": {},
   "outputs": [
    {
     "data": {
      "text/plain": [
       "const          3.799393e-178\n",
       "address         5.620584e-01\n",
       "age             6.599370e-01\n",
       "card_2          5.076797e-71\n",
       "card_3          1.131648e-70\n",
       "card_4          2.711253e-88\n",
       "card_5          6.375891e-21\n",
       "cardmon         7.088035e-01\n",
       "carvalue        5.299242e-01\n",
       "commute         9.382430e-01\n",
       "commutetime     4.679623e-01\n",
       "creddebt        5.764866e-01\n",
       "debtinc         8.424192e-01\n",
       "ed              4.034467e-01\n",
       "employ          3.036395e-01\n",
       "equipmon        6.120147e-01\n",
       "equipten        4.468710e-01\n",
       "hourstv         7.032388e-01\n",
       "lncardmon       8.318277e-01\n",
       "lncardten       3.909700e-01\n",
       "lninc           5.489628e-33\n",
       "lnlongmon       5.751439e-01\n",
       "lnothdebt       6.614806e-01\n",
       "pets            6.083063e-01\n",
       "spoused         2.271642e-01\n",
       "tollmon         3.388575e-02\n",
       "tollten         5.750557e-02\n",
       "dtype: float64"
      ]
     },
     "execution_count": 96,
     "metadata": {},
     "output_type": "execute_result"
    }
   ],
   "source": [
    "#Getting the list of P values so as to drop P values greater than 0.5\n",
    "#dir(lm)\n",
    "lm.pvalues"
   ]
  },
  {
   "cell_type": "code",
   "execution_count": 97,
   "metadata": {},
   "outputs": [
    {
     "data": {
      "text/plain": [
       "Index(['address', 'age', 'card_2', 'card_3', 'card_4', 'card_5', 'cardmon',\n",
       "       'carvalue', 'commute', 'commutetime', 'creddebt', 'debtinc', 'ed',\n",
       "       'employ', 'equipmon', 'equipten', 'hourstv', 'lncardmon', 'lncardten',\n",
       "       'lninc', 'lnlongmon', 'lnothdebt', 'pets', 'spoused', 'tollmon',\n",
       "       'tollten'],\n",
       "      dtype='object')"
      ]
     },
     "execution_count": 97,
     "metadata": {},
     "output_type": "execute_result"
    }
   ],
   "source": [
    "feature_columns"
   ]
  },
  {
   "cell_type": "code",
   "execution_count": 98,
   "metadata": {},
   "outputs": [
    {
     "data": {
      "text/plain": [
       "26"
      ]
     },
     "execution_count": 98,
     "metadata": {},
     "output_type": "execute_result"
    }
   ],
   "source": [
    "cols = list(feature_columns)\n",
    "New_credit[cols].head()\n",
    "len(cols)"
   ]
  },
  {
   "cell_type": "code",
   "execution_count": 99,
   "metadata": {},
   "outputs": [],
   "source": [
    "train_X, test_X, train_y, test_y = train_test_split( New_credit[feature_columns],\n",
    "                                                  New_credit['ln_Total_Spend'],\n",
    "                                                  test_size = 0.3,\n",
    "                                                  random_state = 42 )"
   ]
  },
  {
   "cell_type": "code",
   "execution_count": 100,
   "metadata": {},
   "outputs": [
    {
     "data": {
      "text/plain": [
       "(3500, 26)"
      ]
     },
     "execution_count": 100,
     "metadata": {},
     "output_type": "execute_result"
    }
   ],
   "source": [
    "train_X.shape"
   ]
  },
  {
   "cell_type": "code",
   "execution_count": 101,
   "metadata": {},
   "outputs": [
    {
     "data": {
      "text/plain": [
       "(3500,)"
      ]
     },
     "execution_count": 101,
     "metadata": {},
     "output_type": "execute_result"
    }
   ],
   "source": [
    "train_y.shape"
   ]
  },
  {
   "cell_type": "code",
   "execution_count": 102,
   "metadata": {},
   "outputs": [
    {
     "data": {
      "text/plain": [
       "3500"
      ]
     },
     "execution_count": 102,
     "metadata": {},
     "output_type": "execute_result"
    }
   ],
   "source": [
    "len(train_y)"
   ]
  },
  {
   "cell_type": "code",
   "execution_count": 103,
   "metadata": {},
   "outputs": [
    {
     "name": "stdout",
     "output_type": "stream",
     "text": [
      "['address', 'card_2', 'card_3', 'card_4', 'card_5', 'lninc']\n"
     ]
    }
   ],
   "source": [
    "#for loop for dropping p values greater than 5% and re building te model to get the last list of features \n",
    "#which do not have p value greater than 5% while rebuilding model\n",
    "\n",
    "cols = list(feature_columns)\n",
    "pmax = 1\n",
    "while (len(cols)>0):\n",
    "    p= []\n",
    "    train_X = train_X[cols]\n",
    "    train_X = sm.add_constant(train_X)\n",
    "    lm = sm.OLS(train_y,train_X).fit()\n",
    "    p = pd.Series(lm.pvalues.values[1:],index = cols)      \n",
    "    pmax = max(p)\n",
    "    feature_with_p_max = p.idxmax()\n",
    "    if(pmax>0.05):\n",
    "        cols.remove(feature_with_p_max)\n",
    "    else:\n",
    "        break\n",
    "selected_features_BE = cols\n",
    "print(selected_features_BE)"
   ]
  },
  {
   "cell_type": "code",
   "execution_count": 104,
   "metadata": {},
   "outputs": [
    {
     "data": {
      "text/plain": [
       "1840    5.750475\n",
       "2115    6.639889\n",
       "4437    6.096027\n",
       "1146    5.158078\n",
       "2486    5.401009\n",
       "Name: ln_Total_Spend, dtype: float64"
      ]
     },
     "execution_count": 104,
     "metadata": {},
     "output_type": "execute_result"
    }
   ],
   "source": [
    "train_y.head()"
   ]
  },
  {
   "cell_type": "code",
   "execution_count": 105,
   "metadata": {},
   "outputs": [
    {
     "data": {
      "text/html": [
       "<div>\n",
       "<style scoped>\n",
       "    .dataframe tbody tr th:only-of-type {\n",
       "        vertical-align: middle;\n",
       "    }\n",
       "\n",
       "    .dataframe tbody tr th {\n",
       "        vertical-align: top;\n",
       "    }\n",
       "\n",
       "    .dataframe thead th {\n",
       "        text-align: right;\n",
       "    }\n",
       "</style>\n",
       "<table border=\"1\" class=\"dataframe\">\n",
       "  <thead>\n",
       "    <tr style=\"text-align: right;\">\n",
       "      <th></th>\n",
       "      <th>const</th>\n",
       "      <th>address</th>\n",
       "      <th>card_2</th>\n",
       "      <th>card_3</th>\n",
       "      <th>card_4</th>\n",
       "      <th>card_5</th>\n",
       "      <th>lninc</th>\n",
       "    </tr>\n",
       "  </thead>\n",
       "  <tbody>\n",
       "    <tr>\n",
       "      <th>1840</th>\n",
       "      <td>1.0</td>\n",
       "      <td>7</td>\n",
       "      <td>1</td>\n",
       "      <td>0</td>\n",
       "      <td>0</td>\n",
       "      <td>0</td>\n",
       "      <td>3.367296</td>\n",
       "    </tr>\n",
       "    <tr>\n",
       "      <th>2115</th>\n",
       "      <td>1.0</td>\n",
       "      <td>17</td>\n",
       "      <td>0</td>\n",
       "      <td>0</td>\n",
       "      <td>1</td>\n",
       "      <td>0</td>\n",
       "      <td>4.983607</td>\n",
       "    </tr>\n",
       "    <tr>\n",
       "      <th>4437</th>\n",
       "      <td>1.0</td>\n",
       "      <td>5</td>\n",
       "      <td>0</td>\n",
       "      <td>0</td>\n",
       "      <td>1</td>\n",
       "      <td>0</td>\n",
       "      <td>2.397895</td>\n",
       "    </tr>\n",
       "    <tr>\n",
       "      <th>1146</th>\n",
       "      <td>1.0</td>\n",
       "      <td>13</td>\n",
       "      <td>0</td>\n",
       "      <td>1</td>\n",
       "      <td>0</td>\n",
       "      <td>0</td>\n",
       "      <td>3.850148</td>\n",
       "    </tr>\n",
       "    <tr>\n",
       "      <th>2486</th>\n",
       "      <td>1.0</td>\n",
       "      <td>33</td>\n",
       "      <td>0</td>\n",
       "      <td>1</td>\n",
       "      <td>0</td>\n",
       "      <td>0</td>\n",
       "      <td>3.891820</td>\n",
       "    </tr>\n",
       "  </tbody>\n",
       "</table>\n",
       "</div>"
      ],
      "text/plain": [
       "      const  address  card_2  card_3  card_4  card_5     lninc\n",
       "1840    1.0        7       1       0       0       0  3.367296\n",
       "2115    1.0       17       0       0       1       0  4.983607\n",
       "4437    1.0        5       0       0       1       0  2.397895\n",
       "1146    1.0       13       0       1       0       0  3.850148\n",
       "2486    1.0       33       0       1       0       0  3.891820"
      ]
     },
     "execution_count": 105,
     "metadata": {},
     "output_type": "execute_result"
    }
   ],
   "source": [
    "train_X = train_X[selected_features_BE]\n",
    "train_X = sm.add_constant(train_X)\n",
    "train_X.head()"
   ]
  },
  {
   "cell_type": "code",
   "execution_count": 106,
   "metadata": {},
   "outputs": [],
   "source": [
    "lm = sm.OLS(train_y,train_X).fit()"
   ]
  },
  {
   "cell_type": "code",
   "execution_count": 107,
   "metadata": {},
   "outputs": [
    {
     "name": "stdout",
     "output_type": "stream",
     "text": [
      "                            OLS Regression Results                            \n",
      "==============================================================================\n",
      "Dep. Variable:         ln_Total_Spend   R-squared:                       0.276\n",
      "Model:                            OLS   Adj. R-squared:                  0.275\n",
      "Method:                 Least Squares   F-statistic:                     222.3\n",
      "Date:                Sat, 13 Jul 2019   Prob (F-statistic):          6.16e-241\n",
      "Time:                        23:55:50   Log-Likelihood:                -3015.4\n",
      "No. Observations:                3500   AIC:                             6045.\n",
      "Df Residuals:                    3493   BIC:                             6088.\n",
      "Df Model:                           6                                         \n",
      "Covariance Type:            nonrobust                                         \n",
      "==============================================================================\n",
      "                 coef    std err          t      P>|t|      [0.025      0.975]\n",
      "------------------------------------------------------------------------------\n",
      "const          5.1273      0.055     93.531      0.000       5.020       5.235\n",
      "address       -0.0016      0.001     -1.980      0.048      -0.003   -1.58e-05\n",
      "card_2        -0.5369      0.029    -18.294      0.000      -0.594      -0.479\n",
      "card_3        -0.5414      0.030    -18.187      0.000      -0.600      -0.483\n",
      "card_4        -0.5916      0.029    -20.573      0.000      -0.648      -0.535\n",
      "card_5        -0.4752      0.051     -9.379      0.000      -0.574      -0.376\n",
      "lninc          0.3637      0.014     26.883      0.000       0.337       0.390\n",
      "==============================================================================\n",
      "Omnibus:                      374.070   Durbin-Watson:                   2.035\n",
      "Prob(Omnibus):                  0.000   Jarque-Bera (JB):              840.830\n",
      "Skew:                          -0.648   Prob(JB):                    2.61e-183\n",
      "Kurtosis:                       5.022   Cond. No.                         141.\n",
      "==============================================================================\n",
      "\n",
      "Warnings:\n",
      "[1] Standard Errors assume that the covariance matrix of the errors is correctly specified.\n"
     ]
    }
   ],
   "source": [
    "print(lm.summary())"
   ]
  },
  {
   "cell_type": "code",
   "execution_count": 109,
   "metadata": {},
   "outputs": [],
   "source": [
    "test_X =test_X[selected_features_BE]"
   ]
  },
  {
   "cell_type": "code",
   "execution_count": 114,
   "metadata": {},
   "outputs": [
    {
     "data": {
      "text/plain": [
       "(1500, 6)"
      ]
     },
     "execution_count": 114,
     "metadata": {},
     "output_type": "execute_result"
    }
   ],
   "source": [
    "test_X.shape"
   ]
  },
  {
   "cell_type": "code",
   "execution_count": 115,
   "metadata": {},
   "outputs": [
    {
     "data": {
      "text/plain": [
       "(1500,)"
      ]
     },
     "execution_count": 115,
     "metadata": {},
     "output_type": "execute_result"
    }
   ],
   "source": [
    "test_y.shape"
   ]
  },
  {
   "cell_type": "code",
   "execution_count": null,
   "metadata": {},
   "outputs": [],
   "source": [
    "#Comparing Errors to investigate if our model is under fitting or over fitting"
   ]
  },
  {
   "cell_type": "code",
   "execution_count": 117,
   "metadata": {},
   "outputs": [
    {
     "name": "stdout",
     "output_type": "stream",
     "text": [
      "MAE: 0.4407398532660935\n",
      "MSE: 0.3206204037269041\n",
      "RMSE: 0.5662335240224691\n"
     ]
    }
   ],
   "source": [
    "test_X = sm.add_constant(test_X)\n",
    "y_pred = lm.predict(test_X)\n",
    "# calculate these metrics by hand!\n",
    "from sklearn import metrics\n",
    "import numpy as np\n",
    "print ('MAE:', metrics.mean_absolute_error(test_y, y_pred))\n",
    "print ('MSE:', metrics.mean_squared_error(test_y, y_pred))\n",
    "print ('RMSE:', np.sqrt(metrics.mean_squared_error(test_y, y_pred)))"
   ]
  },
  {
   "cell_type": "code",
   "execution_count": 118,
   "metadata": {},
   "outputs": [],
   "source": [
    "#Predicted y for train data\n",
    "y_pred_dev = lm.predict(train_X)"
   ]
  },
  {
   "cell_type": "code",
   "execution_count": 119,
   "metadata": {},
   "outputs": [
    {
     "name": "stdout",
     "output_type": "stream",
     "text": [
      "MAE: 0.439775642627292\n",
      "MSE: 0.32798160432977325\n",
      "RMSE: 0.5726967821891208\n"
     ]
    }
   ],
   "source": [
    "\n",
    "print ('MAE:', metrics.mean_absolute_error(train_y, y_pred_dev))\n",
    "print ('MSE:', metrics.mean_squared_error(train_y, y_pred_dev))\n",
    "print ('RMSE:', np.sqrt(metrics.mean_squared_error(train_y, y_pred_dev)))"
   ]
  },
  {
   "cell_type": "markdown",
   "metadata": {},
   "source": [
    "# Conclusion\n",
    "\n",
    "\n"
   ]
  },
  {
   "cell_type": "markdown",
   "metadata": {},
   "source": [
    "## Since from above scenarios(MAE,MSE,RMSE) and model, we identify that our model is neither underfitting nor over fitting ,Since we are getting an optimal model"
   ]
  },
  {
   "cell_type": "markdown",
   "metadata": {},
   "source": [
    "## From above model we predict that the Card spent is directly dependent on the type of card,income and address.\n"
   ]
  },
  {
   "cell_type": "markdown",
   "metadata": {},
   "source": [
    "## Income is our major driver which defines the total card spent. and the Card_1 (American_Express) that we dropped also a driver in defining card spent. and we predict that the person which sticks to same address over years also decrease card spent "
   ]
  },
  {
   "cell_type": "code",
   "execution_count": null,
   "metadata": {},
   "outputs": [],
   "source": []
  },
  {
   "cell_type": "code",
   "execution_count": null,
   "metadata": {},
   "outputs": [],
   "source": []
  },
  {
   "cell_type": "code",
   "execution_count": null,
   "metadata": {},
   "outputs": [],
   "source": []
  },
  {
   "cell_type": "markdown",
   "metadata": {},
   "source": [
    "### Other Miscelleaneous Coding"
   ]
  },
  {
   "cell_type": "code",
   "execution_count": 123,
   "metadata": {},
   "outputs": [],
   "source": [
    "feature_columns_1 = Credit.columns.difference(['ln_Total_Spend'])"
   ]
  },
  {
   "cell_type": "code",
   "execution_count": 124,
   "metadata": {},
   "outputs": [],
   "source": [
    "train_X, test_X, train_y, test_y = train_test_split( Credit[feature_columns_1],\n",
    "                                                  Credit['ln_Total_Spend'],\n",
    "                                                  test_size = 0.3,\n",
    "                                                  random_state = 42 )"
   ]
  },
  {
   "cell_type": "code",
   "execution_count": 125,
   "metadata": {},
   "outputs": [
    {
     "data": {
      "text/plain": [
       "RandomForestRegressor(bootstrap=True, criterion='mse', max_depth=None,\n",
       "           max_features='auto', max_leaf_nodes=None,\n",
       "           min_impurity_decrease=0.0, min_impurity_split=None,\n",
       "           min_samples_leaf=1, min_samples_split=2,\n",
       "           min_weight_fraction_leaf=0.0, n_estimators=100, n_jobs=None,\n",
       "           oob_score=True, random_state=None, verbose=0, warm_start=False)"
      ]
     },
     "execution_count": 125,
     "metadata": {},
     "output_type": "execute_result"
    }
   ],
   "source": [
    "\n",
    "radm_clf = RandomForestRegressor(oob_score=True,n_estimators=100 )\n",
    "radm_clf.fit( train_X, train_y )"
   ]
  },
  {
   "cell_type": "code",
   "execution_count": 134,
   "metadata": {},
   "outputs": [
    {
     "name": "stdout",
     "output_type": "stream",
     "text": [
      "Mean Absolute Error: 0.44869051705877966\n"
     ]
    }
   ],
   "source": [
    "#Use the forest's predict method on the test data\n",
    "predictions = radm_clf.predict(test_X)\n",
    "# Calculate the absolute errors\n",
    "errors = abs(predictions - test_y)\n",
    "# Print out the mean absolute error (mae)\n",
    "print('Mean Absolute Error:', np.mean(errors))\n"
   ]
  },
  {
   "cell_type": "code",
   "execution_count": null,
   "metadata": {},
   "outputs": [],
   "source": []
  },
  {
   "cell_type": "code",
   "execution_count": 135,
   "metadata": {},
   "outputs": [
    {
     "name": "stdout",
     "output_type": "stream",
     "text": [
      "Mean Absolute Error: 0.16938659554004373\n"
     ]
    }
   ],
   "source": [
    "#Use the forest's predict method on the test data\n",
    "predictions_train = radm_clf.predict(train_X)\n",
    "# Calculate the absolute errors\n",
    "errors_train = abs(predictions_train - train_y)\n",
    "# Print out the mean absolute error (mae)\n",
    "print('Mean Absolute Error:', np.mean(errors_train))"
   ]
  },
  {
   "cell_type": "code",
   "execution_count": null,
   "metadata": {},
   "outputs": [],
   "source": []
  },
  {
   "cell_type": "code",
   "execution_count": 145,
   "metadata": {},
   "outputs": [],
   "source": [
    "# features list after dropping features which have VIF more than 10\n",
    "New_credit_reg =   Credit[['lninc',\n",
    "'carvalue',\n",
    "'card_3',\n",
    "'debtinc',\n",
    "'commutetime',\n",
    "'hourstv',\n",
    "'card_2',\n",
    "'card_4',\n",
    "'address',\n",
    "'creddebt',\n",
    "'ed',\n",
    "'age',\n",
    "'employ',\n",
    "'lncardmon',\n",
    "'lnothdebt',\n",
    "'pets',\n",
    "'tollmon',\n",
    "'tollten',\n",
    "'lncardten',\n",
    "'spoused',\n",
    "'lnlongmon',\n",
    "'cardmon',\n",
    "'tenure',\n",
    "'cardtenure',\n",
    "'card2tenure',\n",
    "'equipten',\n",
    "'lnlongten',\n",
    "'card_5',\n",
    "'equipmon',\n",
    "'commute','ln_Total_Spend']]"
   ]
  },
  {
   "cell_type": "code",
   "execution_count": 146,
   "metadata": {},
   "outputs": [],
   "source": [
    "feature_columns_reg = New_credit_reg.columns.difference(['ln_Total_Spend'])"
   ]
  },
  {
   "cell_type": "code",
   "execution_count": 147,
   "metadata": {},
   "outputs": [],
   "source": [
    "train_X, test_X, train_y, test_y = train_test_split( Credit[feature_columns_reg],\n",
    "                                                  Credit['ln_Total_Spend'],\n",
    "                                                  test_size = 0.3,\n",
    "                                                  random_state = 42 )"
   ]
  },
  {
   "cell_type": "code",
   "execution_count": 149,
   "metadata": {},
   "outputs": [
    {
     "data": {
      "text/plain": [
       "RandomForestRegressor(bootstrap=True, criterion='mse', max_depth=None,\n",
       "           max_features='auto', max_leaf_nodes=None,\n",
       "           min_impurity_decrease=0.0, min_impurity_split=None,\n",
       "           min_samples_leaf=1, min_samples_split=2,\n",
       "           min_weight_fraction_leaf=0.0, n_estimators=100, n_jobs=None,\n",
       "           oob_score=True, random_state=None, verbose=0, warm_start=False)"
      ]
     },
     "execution_count": 149,
     "metadata": {},
     "output_type": "execute_result"
    }
   ],
   "source": [
    "radm_clf_reg = RandomForestRegressor(oob_score=True,n_estimators=100 )\n",
    "radm_clf_reg.fit( train_X, train_y )"
   ]
  },
  {
   "cell_type": "code",
   "execution_count": 151,
   "metadata": {},
   "outputs": [],
   "source": [
    "predictions_reg = radm_clf_reg.predict(test_X)"
   ]
  },
  {
   "cell_type": "code",
   "execution_count": 153,
   "metadata": {},
   "outputs": [],
   "source": [
    "errors = abs(predictions_reg - test_y)"
   ]
  },
  {
   "cell_type": "code",
   "execution_count": 159,
   "metadata": {},
   "outputs": [
    {
     "name": "stdout",
     "output_type": "stream",
     "text": [
      "Mean Absolute Error: 0.46162663368743695\n"
     ]
    }
   ],
   "source": [
    "# Display the performance metrics\n",
    "print('Mean Absolute Error:', np.mean(errors) )\n"
   ]
  },
  {
   "cell_type": "code",
   "execution_count": 160,
   "metadata": {},
   "outputs": [
    {
     "name": "stdout",
     "output_type": "stream",
     "text": [
      "Accuracy: 91.97 %.\n"
     ]
    }
   ],
   "source": [
    "mape = np.mean(100 * (errors / test_y))\n",
    "accuracy = 100 - mape\n",
    "print('Accuracy:', round(accuracy, 2), '%.')"
   ]
  },
  {
   "cell_type": "code",
   "execution_count": null,
   "metadata": {},
   "outputs": [],
   "source": []
  }
 ],
 "metadata": {
  "kernelspec": {
   "display_name": "Python 3",
   "language": "python",
   "name": "python3"
  },
  "language_info": {
   "codemirror_mode": {
    "name": "ipython",
    "version": 3
   },
   "file_extension": ".py",
   "mimetype": "text/x-python",
   "name": "python",
   "nbconvert_exporter": "python",
   "pygments_lexer": "ipython3",
   "version": "3.7.3"
  }
 },
 "nbformat": 4,
 "nbformat_minor": 2
}
